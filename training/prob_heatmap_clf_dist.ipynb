{
 "cells": [
  {
   "cell_type": "code",
   "execution_count": 1,
   "metadata": {
    "collapsed": false
   },
   "outputs": [
    {
     "name": "stdout",
     "output_type": "stream",
     "text": [
      "Populating the interactive namespace from numpy and matplotlib\n"
     ]
    }
   ],
   "source": [
    "%pylab inline\n",
    "import pickle\n",
    "import numpy as np"
   ]
  },
  {
   "cell_type": "code",
   "execution_count": 2,
   "metadata": {
    "collapsed": false
   },
   "outputs": [],
   "source": [
    "phm_list = pickle.load(open('3cls_best_model5_finetuned_phm_s128.pkl'))\n",
    "subj_lists = pickle.load(open('3cls_best_model5_subjs.pkl'))"
   ]
  },
  {
   "cell_type": "code",
   "execution_count": 3,
   "metadata": {
    "collapsed": false
   },
   "outputs": [
    {
     "name": "stdout",
     "output_type": "stream",
     "text": [
      "2148\n",
      "['R', 'L']\n",
      "['CC', 'MLO', 'cancer']\n",
      "(23, 11, 3)\n"
     ]
    }
   ],
   "source": [
    "print len(phm_list)\n",
    "print phm_list[0][2].keys()\n",
    "print phm_list[0][2]['L'].keys()\n",
    "print phm_list[0][2]['L']['CC'][0].shape"
   ]
  },
  {
   "cell_type": "code",
   "execution_count": 4,
   "metadata": {
    "collapsed": false
   },
   "outputs": [
    {
     "name": "stdout",
     "output_type": "stream",
     "text": [
      "1023\n",
      "114\n",
      "201\n"
     ]
    }
   ],
   "source": [
    "subj_train, subj_val, subj_test = subj_lists\n",
    "print len(subj_train)\n",
    "print len(subj_val)\n",
    "print len(subj_test)"
   ]
  },
  {
   "cell_type": "code",
   "execution_count": 5,
   "metadata": {
    "collapsed": false
   },
   "outputs": [
    {
     "name": "stdout",
     "output_type": "stream",
     "text": [
      "1818\n",
      "330\n"
     ]
    }
   ],
   "source": [
    "phm_list_train = [ phm for phm in phm_list if not phm[0] in subj_test]\n",
    "phm_list_test = [ phm for phm in phm_list if phm[0] in subj_test]\n",
    "print len(phm_list_train)\n",
    "print len(phm_list_test)"
   ]
  },
  {
   "cell_type": "code",
   "execution_count": 6,
   "metadata": {
    "collapsed": false
   },
   "outputs": [
    {
     "name": "stdout",
     "output_type": "stream",
     "text": [
      "0 L = 0\n",
      "0 R = 0\n",
      "1 L = 0\n",
      "1 R = 1\n",
      "2 L = 1\n",
      "2 R = 0\n",
      "3 L = 1\n",
      "3 R = 0\n",
      "4 L = 0\n",
      "4 R = 1\n",
      "5 L = 0\n",
      "5 R = 0\n",
      "6 L = 0\n",
      "6 R = 1\n",
      "7 L = 1\n",
      "7 R = 0\n",
      "8 L = 0\n",
      "8 R = 1\n",
      "9 L = 1\n",
      "9 R = 0\n"
     ]
    }
   ],
   "source": [
    "for i,phm in enumerate(phm_list[:10]):\n",
    "    print i, 'L =', phm[2]['L']['cancer']\n",
    "    print i, 'R =', phm[2]['R']['cancer']"
   ]
  },
  {
   "cell_type": "markdown",
   "metadata": {},
   "source": [
    "# Explore one case"
   ]
  },
  {
   "cell_type": "code",
   "execution_count": 7,
   "metadata": {
    "collapsed": false
   },
   "outputs": [
    {
     "name": "stdout",
     "output_type": "stream",
     "text": [
      "subj = 27\n",
      "exam = 2\n",
      "L = 0\n",
      "R = 1\n"
     ]
    }
   ],
   "source": [
    "print 'subj =', phm_list[1][0]\n",
    "print 'exam =', phm_list[1][1]\n",
    "print 'L =', phm_list[1][2]['L']['cancer']\n",
    "print 'R =', phm_list[1][2]['R']['cancer']"
   ]
  },
  {
   "cell_type": "code",
   "execution_count": 8,
   "metadata": {
    "collapsed": false
   },
   "outputs": [
    {
     "data": {
      "text/plain": [
       "<matplotlib.image.AxesImage at 0x106e48290>"
      ]
     },
     "execution_count": 8,
     "metadata": {},
     "output_type": "execute_result"
    },
    {
     "data": {
      "image/png": "[encoded data removed]",
      "text/plain": [
       "<matplotlib.figure.Figure at 0x105e12750>"
      ]
     },
     "metadata": {},
     "output_type": "display_data"
    }
   ],
   "source": [
    "l_cc_phm = phm_list[1][2]['L']['CC'][0]\n",
    "l_mlo_phm = phm_list[1][2]['L']['MLO'][0]\n",
    "fig,ax = subplots(1, 4)\n",
    "fig.set_size_inches([10, 8])\n",
    "ax[0].imshow(l_cc_phm[:,:,1], cmap='RdBu_r', vmin=0, vmax=1)\n",
    "ax[1].imshow(l_cc_phm[:,:,2], cmap='RdBu_r', vmin=0, vmax=1)\n",
    "ax[2].imshow(l_mlo_phm[:,:,1], cmap='RdBu_r', vmin=0, vmax=1)\n",
    "ax[3].imshow(l_mlo_phm[:,:,2], cmap='RdBu_r', vmin=0, vmax=1)"
   ]
  },
  {
   "cell_type": "code",
   "execution_count": 9,
   "metadata": {
    "collapsed": false,
    "scrolled": false
   },
   "outputs": [
    {
     "data": {
      "text/plain": [
       "<matplotlib.image.AxesImage at 0x105c66a50>"
      ]
     },
     "execution_count": 9,
     "metadata": {},
     "output_type": "execute_result"
    },
    {
     "data": {
      "image/png": "[encoded data removed]",
      "text/plain": [
       "<matplotlib.figure.Figure at 0x105ce3d50>"
      ]
     },
     "metadata": {},
     "output_type": "display_data"
    }
   ],
   "source": [
    "r_cc_phm = phm_list[1][2]['R']['CC'][0]\n",
    "r_mlo_phm = phm_list[1][2]['R']['MLO'][0]\n",
    "fig,ax = subplots(1, 4)\n",
    "fig.set_size_inches([10, 8])\n",
    "ax[0].imshow(r_cc_phm[:,:,1], cmap='RdBu_r', vmin=0, vmax=1)\n",
    "ax[1].imshow(r_cc_phm[:,:,2], cmap='RdBu_r', vmin=0, vmax=1)\n",
    "ax[2].imshow(r_mlo_phm[:,:,1], cmap='RdBu_r', vmin=0, vmax=1)\n",
    "ax[3].imshow(r_mlo_phm[:,:,2], cmap='RdBu_r', vmin=0, vmax=1)"
   ]
  },
  {
   "cell_type": "markdown",
   "metadata": {},
   "source": [
    "# Explore another case"
   ]
  },
  {
   "cell_type": "code",
   "execution_count": 10,
   "metadata": {
    "collapsed": false
   },
   "outputs": [
    {
     "name": "stdout",
     "output_type": "stream",
     "text": [
      "subj = 55\n",
      "exam = 1\n",
      "L = 1\n",
      "R = 0\n"
     ]
    }
   ],
   "source": [
    "print 'subj =', phm_list[2][0]\n",
    "print 'exam =', phm_list[2][1]\n",
    "print 'L =', phm_list[2][2]['L']['cancer']\n",
    "print 'R =', phm_list[2][2]['R']['cancer']"
   ]
  },
  {
   "cell_type": "code",
   "execution_count": 11,
   "metadata": {
    "collapsed": false
   },
   "outputs": [
    {
     "data": {
      "text/plain": [
       "<matplotlib.image.AxesImage at 0x109bcb8d0>"
      ]
     },
     "execution_count": 11,
     "metadata": {},
     "output_type": "execute_result"
    },
    {
     "data": {
      "image/png": "[encoded data removed]",
      "text/plain": [
       "<matplotlib.figure.Figure at 0x106fae610>"
      ]
     },
     "metadata": {},
     "output_type": "display_data"
    }
   ],
   "source": [
    "l_cc_phm = phm_list[2][2]['L']['CC'][0]\n",
    "l_mlo_phm = phm_list[2][2]['L']['MLO'][0]\n",
    "fig,ax = subplots(1, 4)\n",
    "fig.set_size_inches([10, 8])\n",
    "ax[0].imshow(l_cc_phm[:,:,1], cmap='RdBu_r', vmin=0, vmax=1)\n",
    "ax[1].imshow(l_cc_phm[:,:,2], cmap='RdBu_r', vmin=0, vmax=1)\n",
    "ax[2].imshow(l_mlo_phm[:,:,1], cmap='RdBu_r', vmin=0, vmax=1)\n",
    "ax[3].imshow(l_mlo_phm[:,:,2], cmap='RdBu_r', vmin=0, vmax=1)"
   ]
  },
  {
   "cell_type": "code",
   "execution_count": 12,
   "metadata": {
    "collapsed": false,
    "scrolled": true
   },
   "outputs": [
    {
     "data": {
      "text/plain": [
       "<matplotlib.image.AxesImage at 0x109fdf610>"
      ]
     },
     "execution_count": 12,
     "metadata": {},
     "output_type": "execute_result"
    },
    {
     "data": {
      "image/png": "[encoded data removed]",
      "text/plain": [
       "<matplotlib.figure.Figure at 0x109d5d390>"
      ]
     },
     "metadata": {},
     "output_type": "display_data"
    }
   ],
   "source": [
    "r_cc_phm = phm_list[2][2]['R']['CC'][0]\n",
    "r_mlo_phm = phm_list[2][2]['R']['MLO'][0]\n",
    "fig,ax = subplots(1, 4)\n",
    "fig.set_size_inches([10, 8])\n",
    "ax[0].imshow(r_cc_phm[:,:,1], cmap='RdBu_r', vmin=0, vmax=1)\n",
    "ax[1].imshow(r_cc_phm[:,:,2], cmap='RdBu_r', vmin=0, vmax=1)\n",
    "ax[2].imshow(r_mlo_phm[:,:,1], cmap='RdBu_r', vmin=0, vmax=1)\n",
    "ax[3].imshow(r_mlo_phm[:,:,2], cmap='RdBu_r', vmin=0, vmax=1)"
   ]
  },
  {
   "cell_type": "markdown",
   "metadata": {},
   "source": [
    "# Explore another case"
   ]
  },
  {
   "cell_type": "code",
   "execution_count": 13,
   "metadata": {
    "collapsed": false
   },
   "outputs": [
    {
     "name": "stdout",
     "output_type": "stream",
     "text": [
      "subj = 846\n",
      "exam = 1\n",
      "L = 1\n",
      "R = 0\n"
     ]
    }
   ],
   "source": [
    "print 'subj =', phm_list[9][0]\n",
    "print 'exam =', phm_list[9][1]\n",
    "print 'L =', phm_list[9][2]['L']['cancer']\n",
    "print 'R =', phm_list[9][2]['R']['cancer']"
   ]
  },
  {
   "cell_type": "code",
   "execution_count": 14,
   "metadata": {
    "collapsed": false
   },
   "outputs": [
    {
     "data": {
      "text/plain": [
       "<matplotlib.image.AxesImage at 0x10ac6d610>"
      ]
     },
     "execution_count": 14,
     "metadata": {},
     "output_type": "execute_result"
    },
    {
     "data": {
      "image/png": "[encoded data removed]",
      "text/plain": [
       "<matplotlib.figure.Figure at 0x10a9a6590>"
      ]
     },
     "metadata": {},
     "output_type": "display_data"
    }
   ],
   "source": [
    "l_cc_phm = phm_list[9][2]['L']['CC'][0]\n",
    "l_mlo_phm = phm_list[9][2]['L']['MLO'][0]\n",
    "fig,ax = subplots(1, 4)\n",
    "fig.set_size_inches([10, 8])\n",
    "ax[0].imshow(l_cc_phm[:,:,1], cmap='RdBu_r', vmin=0, vmax=1)\n",
    "ax[1].imshow(l_cc_phm[:,:,2], cmap='RdBu_r', vmin=0, vmax=1)\n",
    "ax[2].imshow(l_mlo_phm[:,:,1], cmap='RdBu_r', vmin=0, vmax=1)\n",
    "ax[3].imshow(l_mlo_phm[:,:,2], cmap='RdBu_r', vmin=0, vmax=1)"
   ]
  },
  {
   "cell_type": "code",
   "execution_count": 15,
   "metadata": {
    "collapsed": false
   },
   "outputs": [
    {
     "data": {
      "text/plain": [
       "<matplotlib.image.AxesImage at 0x10c150210>"
      ]
     },
     "execution_count": 15,
     "metadata": {},
     "output_type": "execute_result"
    },
    {
     "data": {
      "image/png": "[encoded data removed]",
      "text/plain": [
       "<matplotlib.figure.Figure at 0x10ad3f690>"
      ]
     },
     "metadata": {},
     "output_type": "display_data"
    }
   ],
   "source": [
    "r_cc_phm = phm_list[9][2]['R']['CC'][0]\n",
    "r_mlo_phm = phm_list[9][2]['R']['MLO'][0]\n",
    "fig,ax = subplots(1, 4)\n",
    "fig.set_size_inches([10, 8])\n",
    "ax[0].imshow(r_cc_phm[:,:,1], cmap='RdBu_r', vmin=0, vmax=1)\n",
    "ax[1].imshow(r_cc_phm[:,:,2], cmap='RdBu_r', vmin=0, vmax=1)\n",
    "ax[2].imshow(r_mlo_phm[:,:,1], cmap='RdBu_r', vmin=0, vmax=1)\n",
    "ax[3].imshow(r_mlo_phm[:,:,2], cmap='RdBu_r', vmin=0, vmax=1)"
   ]
  },
  {
   "cell_type": "markdown",
   "metadata": {},
   "source": [
    "# Extract features for all prob heatmaps"
   ]
  },
  {
   "cell_type": "code",
   "execution_count": 7,
   "metadata": {
    "collapsed": true
   },
   "outputs": [],
   "source": [
    "from skimage.measure import label, regionprops\n",
    "\n",
    "def region_features(region=None):\n",
    "    if region is None:\n",
    "        return {\n",
    "            'area':0, 'area_ratio':0., 'area_ratio2':0., 'eccentricity':0.,\n",
    "            'equivalent_diameter':0., 'euler_number':2, 'extent':0.,\n",
    "            'eig1':0., 'eig2':0., 'major_axis_length':0., 'max_intensity':0.,\n",
    "            'mean_intensity':0., 'minor_axis_length':0., 'orientation':0.,\n",
    "            'perimeter':0., 'solidity':0.,\n",
    "        }\n",
    "    return {\n",
    "        'area':region.area,\n",
    "        'area_ratio':float(region.area)/region.convex_area,\n",
    "        'area_ratio2':float(region.area)/region.filled_area,\n",
    "        'eccentricity':region.eccentricity,\n",
    "        'equivalent_diameter':region.equivalent_diameter,\n",
    "        'euler_number':region.euler_number,\n",
    "        'extent':region.extent,\n",
    "        'eig1':region.inertia_tensor_eigvals[0],\n",
    "        'eig2':region.inertia_tensor_eigvals[1],\n",
    "        'major_axis_length':region.major_axis_length,\n",
    "        'max_intensity':region.max_intensity,\n",
    "        'mean_intensity':region.mean_intensity,\n",
    "        'minor_axis_length':region.minor_axis_length,\n",
    "        'orientation':region.orientation,\n",
    "        'perimeter':region.perimeter,\n",
    "        'solidity':region.solidity,\n",
    "    }\n",
    "\n",
    "def total_area(regions=[]):\n",
    "    areas = [ reg.area for reg in regions]\n",
    "    return sum(areas)\n",
    "\n",
    "def global_max_intensity(regions=[]):\n",
    "    max_int = [ reg.max_intensity for reg in regions]\n",
    "    return max(max_int) if len(max_int) > 0 else 0.0\n",
    "\n",
    "def topK_region_idx(regions, k=1):\n",
    "    areas = [ reg.area for reg in regions]\n",
    "    return np.argsort(areas)[-1:-(k+1):-1]"
   ]
  },
  {
   "cell_type": "code",
   "execution_count": 8,
   "metadata": {
    "collapsed": true
   },
   "outputs": [],
   "source": [
    "def prob_hm_features(phm, cutoff, k=1, nb_cls=3):\n",
    "    fea_list = []\n",
    "    if phm is None:  # deal with missing view.\n",
    "        for _ in xrange(nb_cls - 1): # phms depending on the # of cls.\n",
    "            fea = {'nb_regions': np.nan, 'total_area': np.nan, 'global_max_intensity': np.nan}\n",
    "            for j in xrange(k):\n",
    "                reg_fea = {\n",
    "                    'area': np.nan, 'area_ratio': np.nan, 'area_ratio2': np.nan,\n",
    "                    'eccentricity': np.nan, 'eig1': np.nan, 'eig2': np.nan,\n",
    "                    'equivalent_diameter': np.nan, 'euler_number': np.nan, \n",
    "                    'extent': np.nan, \n",
    "                    'major_axis_length': np.nan, 'max_intensity': np.nan,\n",
    "                    'mean_intensity': np.nan, 'minor_axis_length': np.nan,\n",
    "                    'orientation': np.nan, 'perimeter': np.nan,\n",
    "                    'solidity': np.nan, \n",
    "                }\n",
    "                for key in reg_fea.keys():\n",
    "                    new_key = 'top' + str(j+1) + '_' + key\n",
    "                    reg_fea[new_key] = reg_fea.pop(key)\n",
    "                fea.update(reg_fea)\n",
    "            fea_list.append(fea)\n",
    "        return fea_list\n",
    "    \n",
    "    for i in xrange(1, nb_cls):\n",
    "        phm_ = phm[:,:,i]\n",
    "        hm_bin = np.zeros_like(phm_, dtype='uint8')\n",
    "        hm_bin[phm_ >= cutoff] = 255\n",
    "        hm_label = label(hm_bin)\n",
    "        props = regionprops(hm_label, phm_)\n",
    "        fea = {\n",
    "            'nb_regions':len(props),\n",
    "            'total_area':total_area(props),\n",
    "            'global_max_intensity':global_max_intensity(props),\n",
    "        }\n",
    "        nb_reg = min(k, len(props))\n",
    "        idx = topK_region_idx(props, k)\n",
    "        for j,x in enumerate(idx):\n",
    "            reg_fea = region_features(props[x])\n",
    "            for key in reg_fea.keys():\n",
    "                new_key = 'top' + str(j+1) + '_' + key\n",
    "                reg_fea[new_key] = reg_fea.pop(key)\n",
    "            fea.update(reg_fea)\n",
    "        for j in xrange(nb_reg, k):\n",
    "            reg_fea = region_features()\n",
    "            for key in reg_fea.keys():\n",
    "                new_key = 'top' + str(j+1) + '_' + key\n",
    "                reg_fea[new_key] = reg_fea.pop(key)\n",
    "            fea.update(reg_fea)\n",
    "        fea_list.append(fea)\n",
    "    return fea_list"
   ]
  },
  {
   "cell_type": "code",
   "execution_count": 9,
   "metadata": {
    "collapsed": true
   },
   "outputs": [],
   "source": [
    "def get_feature_matrix_dm(phm_list, cutoff, k=1, nb_phm=1):\n",
    "    '''\n",
    "    Args:\n",
    "        nb_phm ([int]): nb of phm to use for each view. Use None to use \n",
    "            all images. It will generate all pairwise combinations between\n",
    "            the CC and MLO views.\n",
    "    '''\n",
    "    import pandas as pd\n",
    "    label_list = []\n",
    "    cc_ben_list = []\n",
    "    cc_mal_list = []\n",
    "    mlo_ben_list = []\n",
    "    mlo_mal_list = []\n",
    "    for phm in phm_list:\n",
    "        for side in ['L', 'R']:\n",
    "            cancer = phm[2][side]['cancer']\n",
    "            cancer = 0 if np.isnan(cancer) else cancer\n",
    "            for cc_phm in phm[2][side]['CC'][:nb_phm]:\n",
    "                for mlo_phm in phm[2][side]['MLO'][:nb_phm]:\n",
    "                    label_list.append(cancer)\n",
    "                    cc_fea_list = prob_hm_features(cc_phm, cutoff, k)\n",
    "                    cc_mal_list.append(cc_fea_list[0])\n",
    "                    cc_ben_list.append(cc_fea_list[1])\n",
    "                    mlo_fea_list = prob_hm_features(mlo_phm, cutoff, k)\n",
    "                    mlo_mal_list.append(mlo_fea_list[0])\n",
    "                    mlo_ben_list.append(mlo_fea_list[1])\n",
    "    cc_ben = pd.DataFrame.from_records(cc_ben_list)\n",
    "    cc_mal = pd.DataFrame.from_records(cc_mal_list)\n",
    "    mlo_ben = pd.DataFrame.from_records(mlo_ben_list)\n",
    "    mlo_mal = pd.DataFrame.from_records(mlo_mal_list)\n",
    "    cc_ben.columns = 'cc_ben_' + cc_ben.columns\n",
    "    cc_mal.columns = 'cc_mal_' + cc_mal.columns\n",
    "    mlo_ben.columns = 'mlo_ben_' + mlo_ben.columns\n",
    "    mlo_mal.columns = 'mlo_mal_' + mlo_mal.columns\n",
    "    fea_df = pd.concat(\n",
    "        [\n",
    "            cc_ben, \n",
    "            cc_mal,\n",
    "            mlo_ben,\n",
    "            mlo_mal,\n",
    "        ], axis=1)\n",
    "    return fea_df, label_list"
   ]
  },
  {
   "cell_type": "code",
   "execution_count": 94,
   "metadata": {
    "collapsed": true
   },
   "outputs": [],
   "source": [
    "def get_subj_exam_dm(phm_list, nb_phm=1):\n",
    "    '''\n",
    "    Args:\n",
    "        nb_phm ([int]): nb of phm to use for each view. Use None to use \n",
    "            all images. It will generate all pairwise combinations between\n",
    "            the CC and MLO views.\n",
    "    '''\n",
    "    import pandas as pd\n",
    "    subj_exam_list = []\n",
    "    for phm in phm_list:\n",
    "        for side in ['L', 'R']:\n",
    "            for cc_phm in phm[2][side]['CC'][:nb_phm]:\n",
    "                for mlo_phm in phm[2][side]['MLO'][:nb_phm]:\n",
    "                    subj_exam_list.append(\n",
    "                        {'subjectId':phm[0], \n",
    "                         'examIndex':phm[1], \n",
    "                         'laterality':side}\n",
    "                    )\n",
    "    subj_exam_df = pd.DataFrame.from_records(subj_exam_list)\n",
    "    return subj_exam_df"
   ]
  },
  {
   "cell_type": "code",
   "execution_count": 95,
   "metadata": {
    "collapsed": false
   },
   "outputs": [
    {
     "name": "stdout",
     "output_type": "stream",
     "text": [
      "(4074, 3)\n",
      "(731, 3)\n"
     ]
    }
   ],
   "source": [
    "subj_exam_nAll_train = get_subj_exam_dm(phm_list_train, nb_phm=None)\n",
    "subj_exam_nAll_test = get_subj_exam_dm(phm_list_test, nb_phm=None)\n",
    "print subj_exam_nAll_train.shape\n",
    "print subj_exam_nAll_test.shape"
   ]
  },
  {
   "cell_type": "code",
   "execution_count": 10,
   "metadata": {
    "collapsed": false
   },
   "outputs": [],
   "source": [
    "fea_30_k2_nAll_train, label_train_nAll = get_feature_matrix_dm(phm_list_train, .3, k=2, nb_phm=None)\n",
    "fea_40_k2_nAll_train, label_train_nAll = get_feature_matrix_dm(phm_list_train, .4, k=2, nb_phm=None)\n",
    "fea_50_k2_nAll_train, label_train_nAll = get_feature_matrix_dm(phm_list_train, .5, k=2, nb_phm=None)\n",
    "fea_60_k2_nAll_train, label_train_nAll = get_feature_matrix_dm(phm_list_train, .6, k=2, nb_phm=None)\n",
    "fea_70_k2_nAll_train, label_train_nAll = get_feature_matrix_dm(phm_list_train, .7, k=2, nb_phm=None)\n",
    "fea_80_k2_nAll_train, label_train_nAll = get_feature_matrix_dm(phm_list_train, .8, k=2, nb_phm=None)\n",
    "fea_90_k2_nAll_train, label_train_nAll = get_feature_matrix_dm(phm_list_train, .9, k=2, nb_phm=None)"
   ]
  },
  {
   "cell_type": "code",
   "execution_count": 11,
   "metadata": {
    "collapsed": false
   },
   "outputs": [],
   "source": [
    "fea_30_k3_nAll_train, label_train_nAll = get_feature_matrix_dm(phm_list_train, .3, k=3, nb_phm=None)\n",
    "fea_40_k3_nAll_train, label_train_nAll = get_feature_matrix_dm(phm_list_train, .4, k=3, nb_phm=None)\n",
    "fea_50_k3_nAll_train, label_train_nAll = get_feature_matrix_dm(phm_list_train, .5, k=3, nb_phm=None)\n",
    "fea_60_k3_nAll_train, label_train_nAll = get_feature_matrix_dm(phm_list_train, .6, k=3, nb_phm=None)\n",
    "fea_70_k3_nAll_train, label_train_nAll = get_feature_matrix_dm(phm_list_train, .7, k=3, nb_phm=None)\n",
    "fea_80_k3_nAll_train, label_train_nAll = get_feature_matrix_dm(phm_list_train, .8, k=3, nb_phm=None)\n",
    "fea_90_k3_nAll_train, label_train_nAll = get_feature_matrix_dm(phm_list_train, .9, k=3, nb_phm=None)"
   ]
  },
  {
   "cell_type": "code",
   "execution_count": 12,
   "metadata": {
    "collapsed": false
   },
   "outputs": [],
   "source": [
    "fea_30_k4_nAll_train, label_train_nAll = get_feature_matrix_dm(phm_list_train, .3, k=4, nb_phm=None)\n",
    "fea_40_k4_nAll_train, label_train_nAll = get_feature_matrix_dm(phm_list_train, .4, k=4, nb_phm=None)\n",
    "fea_50_k4_nAll_train, label_train_nAll = get_feature_matrix_dm(phm_list_train, .5, k=4, nb_phm=None)\n",
    "fea_60_k4_nAll_train, label_train_nAll = get_feature_matrix_dm(phm_list_train, .6, k=4, nb_phm=None)\n",
    "fea_70_k4_nAll_train, label_train_nAll = get_feature_matrix_dm(phm_list_train, .7, k=4, nb_phm=None)\n",
    "fea_80_k4_nAll_train, label_train_nAll = get_feature_matrix_dm(phm_list_train, .8, k=4, nb_phm=None)\n",
    "fea_90_k4_nAll_train, label_train_nAll = get_feature_matrix_dm(phm_list_train, .9, k=4, nb_phm=None)"
   ]
  },
  {
   "cell_type": "code",
   "execution_count": 13,
   "metadata": {
    "collapsed": false
   },
   "outputs": [],
   "source": [
    "fea_30_k2_nAll_test, label_test_nAll = get_feature_matrix_dm(phm_list_test, .3, k=2, nb_phm=None)\n",
    "fea_40_k2_nAll_test, label_test_nAll = get_feature_matrix_dm(phm_list_test, .4, k=2, nb_phm=None)\n",
    "fea_50_k2_nAll_test, label_test_nAll = get_feature_matrix_dm(phm_list_test, .5, k=2, nb_phm=None)\n",
    "fea_60_k2_nAll_test, label_test_nAll = get_feature_matrix_dm(phm_list_test, .6, k=2, nb_phm=None)\n",
    "fea_70_k2_nAll_test, label_test_nAll = get_feature_matrix_dm(phm_list_test, .7, k=2, nb_phm=None)\n",
    "fea_80_k2_nAll_test, label_test_nAll = get_feature_matrix_dm(phm_list_test, .8, k=2, nb_phm=None)\n",
    "fea_90_k2_nAll_test, label_test_nAll = get_feature_matrix_dm(phm_list_test, .9, k=2, nb_phm=None)"
   ]
  },
  {
   "cell_type": "code",
   "execution_count": 14,
   "metadata": {
    "collapsed": false
   },
   "outputs": [],
   "source": [
    "fea_30_k3_nAll_test, label_test_nAll = get_feature_matrix_dm(phm_list_test, .3, k=3, nb_phm=None)\n",
    "fea_40_k3_nAll_test, label_test_nAll = get_feature_matrix_dm(phm_list_test, .4, k=3, nb_phm=None)\n",
    "fea_50_k3_nAll_test, label_test_nAll = get_feature_matrix_dm(phm_list_test, .5, k=3, nb_phm=None)\n",
    "fea_60_k3_nAll_test, label_test_nAll = get_feature_matrix_dm(phm_list_test, .6, k=3, nb_phm=None)\n",
    "fea_70_k3_nAll_test, label_test_nAll = get_feature_matrix_dm(phm_list_test, .7, k=3, nb_phm=None)\n",
    "fea_80_k3_nAll_test, label_test_nAll = get_feature_matrix_dm(phm_list_test, .8, k=3, nb_phm=None)\n",
    "fea_90_k3_nAll_test, label_test_nAll = get_feature_matrix_dm(phm_list_test, .9, k=3, nb_phm=None)"
   ]
  },
  {
   "cell_type": "code",
   "execution_count": 15,
   "metadata": {
    "collapsed": false
   },
   "outputs": [],
   "source": [
    "fea_30_k4_nAll_test, label_test_nAll = get_feature_matrix_dm(phm_list_test, .3, k=4, nb_phm=None)\n",
    "fea_40_k4_nAll_test, label_test_nAll = get_feature_matrix_dm(phm_list_test, .4, k=4, nb_phm=None)\n",
    "fea_50_k4_nAll_test, label_test_nAll = get_feature_matrix_dm(phm_list_test, .5, k=4, nb_phm=None)\n",
    "fea_60_k4_nAll_test, label_test_nAll = get_feature_matrix_dm(phm_list_test, .6, k=4, nb_phm=None)\n",
    "fea_70_k4_nAll_test, label_test_nAll = get_feature_matrix_dm(phm_list_test, .7, k=4, nb_phm=None)\n",
    "fea_80_k4_nAll_test, label_test_nAll = get_feature_matrix_dm(phm_list_test, .8, k=4, nb_phm=None)\n",
    "fea_90_k4_nAll_test, label_test_nAll = get_feature_matrix_dm(phm_list_test, .9, k=4, nb_phm=None)"
   ]
  },
  {
   "cell_type": "code",
   "execution_count": 96,
   "metadata": {
    "collapsed": false
   },
   "outputs": [
    {
     "name": "stdout",
     "output_type": "stream",
     "text": [
      "(4074, 140)\n",
      "(731, 140)\n"
     ]
    }
   ],
   "source": [
    "print fea_30_k2_nAll_train.shape\n",
    "print fea_30_k2_nAll_test.shape"
   ]
  },
  {
   "cell_type": "code",
   "execution_count": 16,
   "metadata": {
    "collapsed": false
   },
   "outputs": [
    {
     "name": "stdout",
     "output_type": "stream",
     "text": [
      "656\n",
      "3418\n",
      "==========\n",
      "125\n",
      "606\n"
     ]
    }
   ],
   "source": [
    "label_train_nAll = np.array(label_train_nAll)\n",
    "print (label_train_nAll==1).sum()\n",
    "print (label_train_nAll==0).sum()\n",
    "print '='*10\n",
    "label_test_nAll = np.array(label_test_nAll)\n",
    "print (label_test_nAll==1).sum()\n",
    "print (label_test_nAll==0).sum()"
   ]
  },
  {
   "cell_type": "markdown",
   "metadata": {},
   "source": [
    "# Build classifiers based on extracted features"
   ]
  },
  {
   "cell_type": "markdown",
   "metadata": {},
   "source": [
    "strategy=mean performs slightly better than median."
   ]
  },
  {
   "cell_type": "markdown",
   "metadata": {},
   "source": [
    "## K=2, n=All"
   ]
  },
  {
   "cell_type": "code",
   "execution_count": 24,
   "metadata": {
    "collapsed": false
   },
   "outputs": [
    {
     "name": "stdout",
     "output_type": "stream",
     "text": [
      "===== cutoff: 0.3 =====\n",
      "K-fold CV: 0.674200549532\n",
      "Test: 0.648283828383\n",
      "===== cutoff: 0.4 =====\n",
      "K-fold CV: 0.666449047589\n",
      "Test: 0.623339933993\n",
      "===== cutoff: 0.5 =====\n",
      "K-fold CV: 0.652538475198\n",
      "Test: 0.648264026403\n",
      "===== cutoff: 0.6 =====\n",
      "K-fold CV: 0.679989538423\n",
      "Test: 0.654633663366\n",
      "===== cutoff: 0.7 =====\n",
      "K-fold CV: 0.658347898526\n",
      "Test: 0.645419141914\n",
      "===== cutoff: 0.8 =====\n",
      "K-fold CV: 0.650611238028\n",
      "Test: 0.62502310231\n",
      "===== cutoff: 0.9 =====\n",
      "K-fold CV: 0.653929458999\n",
      "Test: 0.604580858086\n"
     ]
    }
   ],
   "source": [
    "from sklearn.model_selection import GridSearchCV\n",
    "from sklearn.ensemble import RandomForestClassifier\n",
    "from sklearn.preprocessing import Imputer\n",
    "from sklearn.metrics import roc_auc_score\n",
    "from sklearn.pipeline import Pipeline\n",
    "\n",
    "imp = Imputer(missing_values='NaN', strategy='mean')\n",
    "rf = RandomForestClassifier(class_weight='balanced', random_state=12345, n_jobs=-1)\n",
    "imp_rf = Pipeline([('imp', imp), ('clf', rf)])\n",
    "\n",
    "rf_grid_param1 = {\n",
    "    'clf__n_estimators':[300],\n",
    "}\n",
    "rf_gsearch1 = GridSearchCV(\n",
    "    estimator=imp_rf,\n",
    "    param_grid=rf_grid_param1,\n",
    "    scoring='roc_auc', n_jobs=1, cv=5,\n",
    ")\n",
    "\n",
    "fea_dat_list = [\n",
    "    {'name': 'cutoff: 0.3', 'train': fea_30_k2_nAll_train, 'test': fea_30_k2_nAll_test},\n",
    "    {'name': 'cutoff: 0.4', 'train': fea_40_k2_nAll_train, 'test': fea_40_k2_nAll_test},\n",
    "    {'name': 'cutoff: 0.5', 'train': fea_50_k2_nAll_train, 'test': fea_50_k2_nAll_test},\n",
    "    {'name': 'cutoff: 0.6', 'train': fea_60_k2_nAll_train, 'test': fea_60_k2_nAll_test},\n",
    "    {'name': 'cutoff: 0.7', 'train': fea_70_k2_nAll_train, 'test': fea_70_k2_nAll_test},\n",
    "    {'name': 'cutoff: 0.8', 'train': fea_80_k2_nAll_train, 'test': fea_80_k2_nAll_test},\n",
    "    {'name': 'cutoff: 0.9', 'train': fea_90_k2_nAll_train, 'test': fea_90_k2_nAll_test},\n",
    "]\n",
    "\n",
    "for d in fea_dat_list:\n",
    "    rf_gsearch1.fit(d['train'], label_train_nAll)\n",
    "    print '='*5, d['name'], '='*5\n",
    "    print 'K-fold CV:', rf_gsearch1.best_score_\n",
    "    print 'Test:', roc_auc_score(\n",
    "        label_test_nAll, rf_gsearch1.predict_proba(d['test'])[:,1])"
   ]
  },
  {
   "cell_type": "markdown",
   "metadata": {},
   "source": [
    "## K=3, n=All"
   ]
  },
  {
   "cell_type": "code",
   "execution_count": 25,
   "metadata": {
    "collapsed": false
   },
   "outputs": [
    {
     "name": "stdout",
     "output_type": "stream",
     "text": [
      "===== cutoff: 0.3 =====\n",
      "K-fold CV: 0.677018188311\n",
      "Test: 0.633504950495\n",
      "===== cutoff: 0.4 =====\n",
      "K-fold CV: 0.669807868119\n",
      "Test: 0.659907590759\n",
      "===== cutoff: 0.5 =====\n",
      "K-fold CV: 0.656115561853\n",
      "Test: 0.664528052805\n",
      "===== cutoff: 0.6 =====\n",
      "K-fold CV: 0.671763581168\n",
      "Test: 0.645518151815\n",
      "===== cutoff: 0.7 =====\n",
      "K-fold CV: 0.671016931942\n",
      "Test: 0.664442244224\n",
      "===== cutoff: 0.8 =====\n",
      "K-fold CV: 0.659887080201\n",
      "Test: 0.615663366337\n",
      "===== cutoff: 0.9 =====\n",
      "K-fold CV: 0.657753432147\n",
      "Test: 0.622594059406\n"
     ]
    }
   ],
   "source": [
    "from sklearn.model_selection import GridSearchCV\n",
    "from sklearn.ensemble import RandomForestClassifier\n",
    "from sklearn.preprocessing import Imputer\n",
    "from sklearn.metrics import roc_auc_score\n",
    "from sklearn.pipeline import Pipeline\n",
    "\n",
    "imp = Imputer(missing_values='NaN', strategy='mean')\n",
    "rf = RandomForestClassifier(class_weight='balanced', random_state=12345, n_jobs=-1)\n",
    "imp_rf = Pipeline([('imp', imp), ('clf', rf)])\n",
    "\n",
    "rf_grid_param1 = {\n",
    "    'clf__n_estimators':[300],\n",
    "}\n",
    "rf_gsearch1 = GridSearchCV(\n",
    "    estimator=imp_rf,\n",
    "    param_grid=rf_grid_param1,\n",
    "    scoring='roc_auc', n_jobs=1, cv=5,\n",
    ")\n",
    "\n",
    "fea_dat_list = [\n",
    "    {'name': 'cutoff: 0.3', 'train': fea_30_k3_nAll_train, 'test': fea_30_k3_nAll_test},\n",
    "    {'name': 'cutoff: 0.4', 'train': fea_40_k3_nAll_train, 'test': fea_40_k3_nAll_test},\n",
    "    {'name': 'cutoff: 0.5', 'train': fea_50_k3_nAll_train, 'test': fea_50_k3_nAll_test},\n",
    "    {'name': 'cutoff: 0.6', 'train': fea_60_k3_nAll_train, 'test': fea_60_k3_nAll_test},\n",
    "    {'name': 'cutoff: 0.7', 'train': fea_70_k3_nAll_train, 'test': fea_70_k3_nAll_test},\n",
    "    {'name': 'cutoff: 0.8', 'train': fea_80_k3_nAll_train, 'test': fea_80_k3_nAll_test},\n",
    "    {'name': 'cutoff: 0.9', 'train': fea_90_k3_nAll_train, 'test': fea_90_k3_nAll_test},\n",
    "]\n",
    "\n",
    "for d in fea_dat_list:\n",
    "    rf_gsearch1.fit(d['train'], label_train_nAll)\n",
    "    print '='*5, d['name'], '='*5\n",
    "    print 'K-fold CV:', rf_gsearch1.best_score_\n",
    "    print 'Test:', roc_auc_score(\n",
    "        label_test_nAll, rf_gsearch1.predict_proba(d['test'])[:,1])"
   ]
  },
  {
   "cell_type": "markdown",
   "metadata": {},
   "source": [
    "## K=4, n=All"
   ]
  },
  {
   "cell_type": "code",
   "execution_count": 17,
   "metadata": {
    "collapsed": false
   },
   "outputs": [
    {
     "name": "stdout",
     "output_type": "stream",
     "text": [
      "===== cutoff: 0.3 =====\n",
      "K-fold CV: 0.669798404757\n",
      "Test: 0.640396039604\n",
      "===== cutoff: 0.4 =====\n",
      "K-fold CV: 0.6786617849\n",
      "Test: 0.640396039604\n",
      "===== cutoff: 0.5 =====\n",
      "K-fold CV: 0.655805739571\n",
      "Test: 0.647214521452\n",
      "===== cutoff: 0.6 =====\n",
      "K-fold CV: 0.665231372819\n",
      "Test: 0.648627062706\n",
      "===== cutoff: 0.7 =====\n",
      "K-fold CV: 0.662909022404\n",
      "Test: 0.655940594059\n",
      "===== cutoff: 0.8 =====\n",
      "K-fold CV: 0.660822402026\n",
      "Test: 0.631207920792\n",
      "===== cutoff: 0.9 =====\n",
      "K-fold CV: 0.660981059388\n",
      "Test: 0.629940594059\n"
     ]
    }
   ],
   "source": [
    "from sklearn.model_selection import GridSearchCV\n",
    "from sklearn.ensemble import RandomForestClassifier\n",
    "from sklearn.preprocessing import Imputer\n",
    "from sklearn.metrics import roc_auc_score\n",
    "from sklearn.pipeline import Pipeline\n",
    "\n",
    "imp = Imputer(missing_values='NaN', strategy='mean')\n",
    "rf = RandomForestClassifier(class_weight='balanced', random_state=12345, n_jobs=-1)\n",
    "imp_rf = Pipeline([('imp', imp), ('clf', rf)])\n",
    "\n",
    "rf_grid_param1 = {\n",
    "    'clf__n_estimators':[300],\n",
    "}\n",
    "rf_gsearch1 = GridSearchCV(\n",
    "    estimator=imp_rf,\n",
    "    param_grid=rf_grid_param1,\n",
    "    scoring='roc_auc', n_jobs=1, cv=5,\n",
    ")\n",
    "\n",
    "fea_dat_list = [\n",
    "    {'name': 'cutoff: 0.3', 'train': fea_30_k4_nAll_train, 'test': fea_30_k4_nAll_test},\n",
    "    {'name': 'cutoff: 0.4', 'train': fea_40_k4_nAll_train, 'test': fea_40_k4_nAll_test},\n",
    "    {'name': 'cutoff: 0.5', 'train': fea_50_k4_nAll_train, 'test': fea_50_k4_nAll_test},\n",
    "    {'name': 'cutoff: 0.6', 'train': fea_60_k4_nAll_train, 'test': fea_60_k4_nAll_test},\n",
    "    {'name': 'cutoff: 0.7', 'train': fea_70_k4_nAll_train, 'test': fea_70_k4_nAll_test},\n",
    "    {'name': 'cutoff: 0.8', 'train': fea_80_k4_nAll_train, 'test': fea_80_k4_nAll_test},\n",
    "    {'name': 'cutoff: 0.9', 'train': fea_90_k4_nAll_train, 'test': fea_90_k4_nAll_test},\n",
    "]\n",
    "\n",
    "for d in fea_dat_list:\n",
    "    rf_gsearch1.fit(d['train'], label_train_nAll)\n",
    "    print '='*5, d['name'], '='*5\n",
    "    print 'K-fold CV:', rf_gsearch1.best_score_\n",
    "    print 'Test:', roc_auc_score(\n",
    "        label_test_nAll, rf_gsearch1.predict_proba(d['test'])[:,1])"
   ]
  },
  {
   "cell_type": "markdown",
   "metadata": {},
   "source": [
    "# Feature selection with Boruta"
   ]
  },
  {
   "cell_type": "markdown",
   "metadata": {},
   "source": [
    "## Nb of top regions=2, Nb of imgs=All"
   ]
  },
  {
   "cell_type": "code",
   "execution_count": 18,
   "metadata": {
    "collapsed": true
   },
   "outputs": [],
   "source": [
    "fea_30_k2_nAll_train.columns = '30_' + fea_50_k2_nAll_train.columns\n",
    "fea_40_k2_nAll_train.columns = '40_' + fea_50_k2_nAll_train.columns\n",
    "fea_50_k2_nAll_train.columns = '50_' + fea_50_k2_nAll_train.columns\n",
    "fea_60_k2_nAll_train.columns = '60_' + fea_50_k2_nAll_train.columns\n",
    "fea_70_k2_nAll_train.columns = '70_' + fea_70_k2_nAll_train.columns\n",
    "fea_80_k2_nAll_train.columns = '80_' + fea_50_k2_nAll_train.columns\n",
    "fea_90_k2_nAll_train.columns = '90_' + fea_90_k2_nAll_train.columns"
   ]
  },
  {
   "cell_type": "code",
   "execution_count": 19,
   "metadata": {
    "collapsed": false
   },
   "outputs": [
    {
     "name": "stdout",
     "output_type": "stream",
     "text": [
      "(4074, 980)\n",
      "(731, 980)\n"
     ]
    }
   ],
   "source": [
    "import pandas as pd\n",
    "fea_all_k2_nAll_train = pd.concat(\n",
    "    [fea_30_k2_nAll_train, fea_40_k2_nAll_train, fea_50_k2_nAll_train,\n",
    "     fea_60_k2_nAll_train, fea_70_k2_nAll_train, fea_80_k2_nAll_train,\n",
    "     fea_90_k2_nAll_train], axis=1)\n",
    "fea_all_k2_nAll_test = pd.concat(\n",
    "    [fea_30_k2_nAll_test, fea_40_k2_nAll_test, fea_50_k2_nAll_test,\n",
    "     fea_60_k2_nAll_test, fea_70_k2_nAll_test, fea_80_k2_nAll_test,\n",
    "     fea_90_k2_nAll_test], axis=1)\n",
    "print fea_all_k2_nAll_train.shape\n",
    "print fea_all_k2_nAll_test.shape"
   ]
  },
  {
   "cell_type": "code",
   "execution_count": 20,
   "metadata": {
    "collapsed": false
   },
   "outputs": [
    {
     "name": "stdout",
     "output_type": "stream",
     "text": [
      "31.304951685\n",
      "0.03194382825\n"
     ]
    }
   ],
   "source": [
    "print 980**.5\n",
    "print 980**.5 / 980"
   ]
  },
  {
   "cell_type": "code",
   "execution_count": 28,
   "metadata": {
    "collapsed": false
   },
   "outputs": [
    {
     "name": "stdout",
     "output_type": "stream",
     "text": [
      "Nb of selected features: 159\n",
      "Nb of weak features: 3\n",
      "==========\n",
      "Test AUC: 0.670323432343\n"
     ]
    }
   ],
   "source": [
    "from sklearn.model_selection import GridSearchCV\n",
    "from sklearn.ensemble import RandomForestClassifier\n",
    "from sklearn.preprocessing import Imputer\n",
    "from sklearn.metrics import roc_auc_score\n",
    "from sklearn.pipeline import Pipeline\n",
    "from boruta import BorutaPy\n",
    "\n",
    "imp = Imputer(missing_values='NaN', strategy='mean')\n",
    "rf1 = RandomForestClassifier(class_weight='balanced', max_depth=5, random_state=12345, n_jobs=-1)\n",
    "feat_selector = BorutaPy(rf1, n_estimators='auto', perc=95, max_iter=200, verbose=0, random_state=12345)\n",
    "rf2 = RandomForestClassifier(n_estimators=300, class_weight='balanced', random_state=12345, n_jobs=-1)\n",
    "impfeat_clf = Pipeline([('imp', imp), ('feat', feat_selector), ('clf', rf2)])\n",
    "\n",
    "impfeat_clf.fit(fea_all_k2_nAll_train, label_train_nAll)\n",
    "\n",
    "learned_feat = impfeat_clf.named_steps['feat']\n",
    "print 'Nb of selected features:', learned_feat.support_.sum()\n",
    "print 'Nb of weak features:', learned_feat.support_weak_.sum()\n",
    "print '='*10\n",
    "print 'Test AUC:', roc_auc_score(\n",
    "    label_test_nAll, impfeat_clf.predict_proba(fea_all_k2_nAll_test)[:,1])"
   ]
  },
  {
   "cell_type": "markdown",
   "metadata": {},
   "source": [
    "Change the max_depth value for Boruta to 3"
   ]
  },
  {
   "cell_type": "code",
   "execution_count": 32,
   "metadata": {
    "collapsed": false
   },
   "outputs": [
    {
     "name": "stdout",
     "output_type": "stream",
     "text": [
      "Nb of selected features: 294\n",
      "Nb of weak features: 16\n",
      "==========\n",
      "Test AUC: 0.64996039604\n",
      "==========\n",
      "Time spent: 1378.59113908\n"
     ]
    }
   ],
   "source": [
    "from sklearn.model_selection import GridSearchCV\n",
    "from sklearn.ensemble import RandomForestClassifier\n",
    "from sklearn.preprocessing import Imputer\n",
    "from sklearn.metrics import roc_auc_score\n",
    "from sklearn.pipeline import Pipeline\n",
    "from boruta import BorutaPy\n",
    "import time\n",
    "\n",
    "time_begin = time.time()\n",
    "imp = Imputer(missing_values='NaN', strategy='mean')\n",
    "rf1 = RandomForestClassifier(class_weight='balanced', max_depth=3, random_state=12345, n_jobs=-1)\n",
    "feat_selector = BorutaPy(rf1, n_estimators='auto', perc=95, max_iter=200, verbose=0, random_state=12345)\n",
    "rf2 = RandomForestClassifier(n_estimators=300, class_weight='balanced', random_state=12345, n_jobs=-1)\n",
    "impfeat_clf = Pipeline([('imp', imp), ('feat', feat_selector), ('clf', rf2)])\n",
    "\n",
    "impfeat_clf.fit(fea_all_k2_nAll_train, label_train_nAll)\n",
    "\n",
    "learned_feat = impfeat_clf.named_steps['feat']\n",
    "print 'Nb of selected features:', learned_feat.support_.sum()\n",
    "print 'Nb of weak features:', learned_feat.support_weak_.sum()\n",
    "print '='*10\n",
    "print 'Test AUC:', roc_auc_score(\n",
    "    label_test_nAll, impfeat_clf.predict_proba(fea_all_k2_nAll_test)[:,1])\n",
    "print '='*10\n",
    "print 'Time spent:', time.time() - time_begin"
   ]
  },
  {
   "cell_type": "markdown",
   "metadata": {},
   "source": [
    "Setting max_depth to 3 makes the performance worse"
   ]
  },
  {
   "cell_type": "markdown",
   "metadata": {},
   "source": [
    "### Without feature selection"
   ]
  },
  {
   "cell_type": "code",
   "execution_count": 22,
   "metadata": {
    "collapsed": false
   },
   "outputs": [
    {
     "name": "stdout",
     "output_type": "stream",
     "text": [
      "Without feat sel, test AUC: 0.656607260726\n"
     ]
    }
   ],
   "source": [
    "from sklearn.model_selection import GridSearchCV\n",
    "from sklearn.ensemble import RandomForestClassifier\n",
    "from sklearn.preprocessing import Imputer\n",
    "from sklearn.metrics import roc_auc_score\n",
    "from sklearn.pipeline import Pipeline\n",
    "from boruta import BorutaPy\n",
    "\n",
    "imp = Imputer(missing_values='NaN', strategy='mean')\n",
    "rf2 = RandomForestClassifier(n_estimators=300, class_weight='balanced', random_state=12345, n_jobs=-1)\n",
    "imp_clf = Pipeline([('imp', imp), ('clf', rf2)])\n",
    "\n",
    "imp_clf.fit(fea_all_k2_nAll_train, label_train_nAll)\n",
    "\n",
    "print 'Without feat sel, test AUC:', roc_auc_score(\n",
    "    label_test_nAll, imp_clf.predict_proba(fea_all_k2_nAll_test)[:,1])"
   ]
  },
  {
   "cell_type": "markdown",
   "metadata": {},
   "source": [
    "Feature selection does not makes the performance worse"
   ]
  },
  {
   "cell_type": "markdown",
   "metadata": {},
   "source": [
    "## Nb of top regions=3, Nb of imgs=All"
   ]
  },
  {
   "cell_type": "code",
   "execution_count": 33,
   "metadata": {
    "collapsed": true
   },
   "outputs": [],
   "source": [
    "fea_30_k3_nAll_train.columns = '30_' + fea_50_k3_nAll_train.columns\n",
    "fea_40_k3_nAll_train.columns = '40_' + fea_50_k3_nAll_train.columns\n",
    "fea_50_k3_nAll_train.columns = '50_' + fea_50_k3_nAll_train.columns\n",
    "fea_60_k3_nAll_train.columns = '60_' + fea_50_k3_nAll_train.columns\n",
    "fea_70_k3_nAll_train.columns = '70_' + fea_70_k3_nAll_train.columns\n",
    "fea_80_k3_nAll_train.columns = '80_' + fea_50_k3_nAll_train.columns\n",
    "fea_90_k3_nAll_train.columns = '90_' + fea_90_k3_nAll_train.columns"
   ]
  },
  {
   "cell_type": "code",
   "execution_count": 34,
   "metadata": {
    "collapsed": false
   },
   "outputs": [
    {
     "name": "stdout",
     "output_type": "stream",
     "text": [
      "(4074, 1428)\n",
      "(731, 1428)\n"
     ]
    }
   ],
   "source": [
    "import pandas as pd\n",
    "fea_all_k3_nAll_train = pd.concat(\n",
    "    [fea_30_k3_nAll_train, fea_40_k3_nAll_train, fea_50_k3_nAll_train,\n",
    "     fea_60_k3_nAll_train, fea_70_k3_nAll_train, fea_80_k3_nAll_train,\n",
    "     fea_90_k3_nAll_train], axis=1)\n",
    "fea_all_k3_nAll_test = pd.concat(\n",
    "    [fea_30_k3_nAll_test, fea_40_k3_nAll_test, fea_50_k3_nAll_test,\n",
    "     fea_60_k3_nAll_test, fea_70_k3_nAll_test, fea_80_k3_nAll_test,\n",
    "     fea_90_k3_nAll_test], axis=1)\n",
    "print fea_all_k3_nAll_train.shape\n",
    "print fea_all_k3_nAll_test.shape"
   ]
  },
  {
   "cell_type": "code",
   "execution_count": 35,
   "metadata": {
    "collapsed": false
   },
   "outputs": [
    {
     "name": "stdout",
     "output_type": "stream",
     "text": [
      "Nb of selected features: 188\n",
      "Nb of weak features: 2\n",
      "==========\n",
      "Test AUC: 0.675075907591\n"
     ]
    }
   ],
   "source": [
    "from sklearn.model_selection import GridSearchCV\n",
    "from sklearn.ensemble import RandomForestClassifier\n",
    "from sklearn.preprocessing import Imputer\n",
    "from sklearn.metrics import roc_auc_score\n",
    "from sklearn.pipeline import Pipeline\n",
    "from boruta import BorutaPy\n",
    "\n",
    "imp = Imputer(missing_values='NaN', strategy='mean')\n",
    "rf1 = RandomForestClassifier(class_weight='balanced', max_depth=5, random_state=12345, n_jobs=-1)\n",
    "feat_selector = BorutaPy(rf1, n_estimators='auto', perc=95, max_iter=100, verbose=0, random_state=12345)\n",
    "rf2 = RandomForestClassifier(n_estimators=300, class_weight='balanced', random_state=12345, n_jobs=-1)\n",
    "impfeat_clf = Pipeline([('imp', imp), ('feat', feat_selector), ('clf', rf2)])\n",
    "\n",
    "impfeat_clf.fit(fea_all_k3_nAll_train, label_train_nAll)\n",
    "\n",
    "learned_feat = impfeat_clf.named_steps['feat']\n",
    "print 'Nb of selected features:', learned_feat.support_.sum()\n",
    "print 'Nb of weak features:', learned_feat.support_weak_.sum()\n",
    "print '='*10\n",
    "print 'Test AUC:', roc_auc_score(\n",
    "    label_test_nAll, impfeat_clf.predict_proba(fea_all_k3_nAll_test)[:,1])"
   ]
  },
  {
   "cell_type": "markdown",
   "metadata": {},
   "source": [
    "Try again with more iterations"
   ]
  },
  {
   "cell_type": "code",
   "execution_count": 41,
   "metadata": {
    "collapsed": false
   },
   "outputs": [
    {
     "name": "stdout",
     "output_type": "stream",
     "text": [
      "Nb of selected features: 190\n",
      "Nb of weak features: 7\n",
      "==========\n",
      "Test AUC: 0.652805280528\n"
     ]
    }
   ],
   "source": [
    "from sklearn.model_selection import GridSearchCV\n",
    "from sklearn.ensemble import RandomForestClassifier\n",
    "from sklearn.preprocessing import Imputer\n",
    "from sklearn.metrics import roc_auc_score\n",
    "from sklearn.pipeline import Pipeline\n",
    "from boruta import BorutaPy\n",
    "\n",
    "imp = Imputer(missing_values='NaN', strategy='mean')\n",
    "rf1 = RandomForestClassifier(class_weight='balanced', max_depth=5, random_state=12345, n_jobs=-1)\n",
    "feat_selector = BorutaPy(rf1, n_estimators='auto', perc=95, max_iter=200, verbose=0, random_state=12345)\n",
    "rf2 = RandomForestClassifier(n_estimators=300, class_weight='balanced', random_state=12345, n_jobs=-1)\n",
    "impfeat_clf = Pipeline([('imp', imp), ('feat', feat_selector), ('clf', rf2)])\n",
    "\n",
    "impfeat_clf.fit(fea_all_k3_nAll_train, label_train_nAll)\n",
    "\n",
    "learned_feat = impfeat_clf.named_steps['feat']\n",
    "print 'Nb of selected features:', learned_feat.support_.sum()\n",
    "print 'Nb of weak features:', learned_feat.support_weak_.sum()\n",
    "print '='*10\n",
    "print 'Test AUC:', roc_auc_score(\n",
    "    label_test_nAll, impfeat_clf.predict_proba(fea_all_k3_nAll_test)[:,1])"
   ]
  },
  {
   "cell_type": "markdown",
   "metadata": {},
   "source": [
    "### Without feature selection"
   ]
  },
  {
   "cell_type": "code",
   "execution_count": 36,
   "metadata": {
    "collapsed": false
   },
   "outputs": [
    {
     "name": "stdout",
     "output_type": "stream",
     "text": [
      "Without feat sel, test AUC: 0.658396039604\n"
     ]
    }
   ],
   "source": [
    "from sklearn.model_selection import GridSearchCV\n",
    "from sklearn.ensemble import RandomForestClassifier\n",
    "from sklearn.preprocessing import Imputer\n",
    "from sklearn.metrics import roc_auc_score\n",
    "from sklearn.pipeline import Pipeline\n",
    "from boruta import BorutaPy\n",
    "\n",
    "imp = Imputer(missing_values='NaN', strategy='mean')\n",
    "rf2 = RandomForestClassifier(n_estimators=300, class_weight='balanced', random_state=12345, n_jobs=-1)\n",
    "imp_clf = Pipeline([('imp', imp), ('clf', rf2)])\n",
    "\n",
    "imp_clf.fit(fea_all_k3_nAll_train, label_train_nAll)\n",
    "\n",
    "print 'Without feat sel, test AUC:', roc_auc_score(\n",
    "    label_test_nAll, imp_clf.predict_proba(fea_all_k3_nAll_test)[:,1])"
   ]
  },
  {
   "cell_type": "markdown",
   "metadata": {},
   "source": [
    "Feature selection improves the performance"
   ]
  },
  {
   "cell_type": "markdown",
   "metadata": {},
   "source": [
    "## Nb of top regions=4, Nb of imgs=All"
   ]
  },
  {
   "cell_type": "code",
   "execution_count": 37,
   "metadata": {
    "collapsed": true
   },
   "outputs": [],
   "source": [
    "fea_30_k4_nAll_train.columns = '30_' + fea_50_k4_nAll_train.columns\n",
    "fea_40_k4_nAll_train.columns = '40_' + fea_50_k4_nAll_train.columns\n",
    "fea_50_k4_nAll_train.columns = '50_' + fea_50_k4_nAll_train.columns\n",
    "fea_60_k4_nAll_train.columns = '60_' + fea_50_k4_nAll_train.columns\n",
    "fea_70_k4_nAll_train.columns = '70_' + fea_70_k4_nAll_train.columns\n",
    "fea_80_k4_nAll_train.columns = '80_' + fea_50_k4_nAll_train.columns\n",
    "fea_90_k4_nAll_train.columns = '90_' + fea_90_k4_nAll_train.columns"
   ]
  },
  {
   "cell_type": "code",
   "execution_count": 38,
   "metadata": {
    "collapsed": false
   },
   "outputs": [
    {
     "name": "stdout",
     "output_type": "stream",
     "text": [
      "(4074, 1876)\n",
      "(731, 1876)\n"
     ]
    }
   ],
   "source": [
    "import pandas as pd\n",
    "fea_all_k4_nAll_train = pd.concat(\n",
    "    [fea_30_k4_nAll_train, fea_40_k4_nAll_train, fea_50_k4_nAll_train,\n",
    "     fea_60_k4_nAll_train, fea_70_k4_nAll_train, fea_80_k4_nAll_train,\n",
    "     fea_90_k4_nAll_train], axis=1)\n",
    "fea_all_k4_nAll_test = pd.concat(\n",
    "    [fea_30_k4_nAll_test, fea_40_k4_nAll_test, fea_50_k4_nAll_test,\n",
    "     fea_60_k4_nAll_test, fea_70_k4_nAll_test, fea_80_k4_nAll_test,\n",
    "     fea_90_k4_nAll_test], axis=1)\n",
    "print fea_all_k4_nAll_train.shape\n",
    "print fea_all_k4_nAll_test.shape"
   ]
  },
  {
   "cell_type": "code",
   "execution_count": 39,
   "metadata": {
    "collapsed": false
   },
   "outputs": [
    {
     "name": "stdout",
     "output_type": "stream",
     "text": [
      "Nb of selected features: 212\n",
      "Nb of weak features: 0\n",
      "==========\n",
      "Test AUC: 0.649082508251\n"
     ]
    }
   ],
   "source": [
    "from sklearn.model_selection import GridSearchCV\n",
    "from sklearn.ensemble import RandomForestClassifier\n",
    "from sklearn.preprocessing import Imputer\n",
    "from sklearn.metrics import roc_auc_score\n",
    "from sklearn.pipeline import Pipeline\n",
    "from boruta import BorutaPy\n",
    "\n",
    "imp = Imputer(missing_values='NaN', strategy='mean')\n",
    "rf1 = RandomForestClassifier(class_weight='balanced', max_depth=5, random_state=12345, n_jobs=-1)\n",
    "feat_selector = BorutaPy(rf1, n_estimators='auto', perc=95, max_iter=100, verbose=0, random_state=12345)\n",
    "rf2 = RandomForestClassifier(n_estimators=300, class_weight='balanced', random_state=12345, n_jobs=-1)\n",
    "impfeat_clf = Pipeline([('imp', imp), ('feat', feat_selector), ('clf', rf2)])\n",
    "\n",
    "impfeat_clf.fit(fea_all_k4_nAll_train, label_train_nAll)\n",
    "\n",
    "learned_feat = impfeat_clf.named_steps['feat']\n",
    "print 'Nb of selected features:', learned_feat.support_.sum()\n",
    "print 'Nb of weak features:', learned_feat.support_weak_.sum()\n",
    "print '='*10\n",
    "print 'Test AUC:', roc_auc_score(\n",
    "    label_test_nAll, impfeat_clf.predict_proba(fea_all_k4_nAll_test)[:,1])"
   ]
  },
  {
   "cell_type": "code",
   "execution_count": 40,
   "metadata": {
    "collapsed": false
   },
   "outputs": [
    {
     "name": "stdout",
     "output_type": "stream",
     "text": [
      "Without feat sel, test AUC: 0.648402640264\n"
     ]
    }
   ],
   "source": [
    "from sklearn.model_selection import GridSearchCV\n",
    "from sklearn.ensemble import RandomForestClassifier\n",
    "from sklearn.preprocessing import Imputer\n",
    "from sklearn.metrics import roc_auc_score\n",
    "from sklearn.pipeline import Pipeline\n",
    "from boruta import BorutaPy\n",
    "\n",
    "imp = Imputer(missing_values='NaN', strategy='mean')\n",
    "rf2 = RandomForestClassifier(n_estimators=300, class_weight='balanced', random_state=12345, n_jobs=-1)\n",
    "imp_clf = Pipeline([('imp', imp), ('clf', rf2)])\n",
    "\n",
    "imp_clf.fit(fea_all_k4_nAll_train, label_train_nAll)\n",
    "\n",
    "print 'Without feat sel, test AUC:', roc_auc_score(\n",
    "    label_test_nAll, imp_clf.predict_proba(fea_all_k4_nAll_test)[:,1])"
   ]
  },
  {
   "cell_type": "markdown",
   "metadata": {
    "collapsed": true
   },
   "source": [
    "# Finetune classifiers for k=3, n=None"
   ]
  },
  {
   "cell_type": "markdown",
   "metadata": {},
   "source": [
    "## Random forest"
   ]
  },
  {
   "cell_type": "code",
   "execution_count": 43,
   "metadata": {
    "collapsed": false
   },
   "outputs": [
    {
     "name": "stdout",
     "output_type": "stream",
     "text": [
      "{'clf__max_depth': 9, 'clf__min_samples_split': 400}\n",
      "==========\n",
      "0.679600924503\n",
      "==========\n",
      "0.682693069307\n"
     ]
    }
   ],
   "source": [
    "from sklearn.model_selection import GridSearchCV\n",
    "from sklearn.ensemble import RandomForestClassifier\n",
    "from sklearn.preprocessing import Imputer\n",
    "from sklearn.metrics import roc_auc_score\n",
    "from sklearn.pipeline import Pipeline\n",
    "\n",
    "imp = Imputer(missing_values='NaN', strategy='mean')\n",
    "rf = RandomForestClassifier(n_estimators=300, class_weight='balanced', \n",
    "                            random_state=12345, n_jobs=-1)\n",
    "imp_clf = Pipeline([('imp', imp), ('clf', rf)])\n",
    "\n",
    "rf_grid_param1 = {\n",
    "    'clf__min_samples_split': [2, 100, 200, 300, 400],\n",
    "    'clf__max_depth': range(3, 10, 2),\n",
    "}\n",
    "\n",
    "rf_gsearch1 = GridSearchCV(\n",
    "    estimator=imp_clf,\n",
    "    param_grid=rf_grid_param1,\n",
    "    scoring='roc_auc', n_jobs=1, cv=5,\n",
    ")\n",
    "rf_gsearch1.fit(fea_all_k3_nAll_train, label_train_nAll)\n",
    "\n",
    "print rf_gsearch1.best_params_\n",
    "print '='*10\n",
    "print rf_gsearch1.best_score_\n",
    "print '='*10\n",
    "print roc_auc_score(\n",
    "    label_test_nAll, rf_gsearch1.predict_proba(fea_all_k3_nAll_test)[:,1])"
   ]
  },
  {
   "cell_type": "code",
   "execution_count": 44,
   "metadata": {
    "collapsed": false
   },
   "outputs": [
    {
     "name": "stdout",
     "output_type": "stream",
     "text": [
      "{'clf__max_depth': 8, 'clf__min_samples_split': 400}\n",
      "==========\n",
      "0.679817151482\n",
      "==========\n",
      "0.683102310231\n"
     ]
    }
   ],
   "source": [
    "from sklearn.model_selection import GridSearchCV\n",
    "from sklearn.ensemble import RandomForestClassifier\n",
    "from sklearn.preprocessing import Imputer\n",
    "from sklearn.metrics import roc_auc_score\n",
    "from sklearn.pipeline import Pipeline\n",
    "\n",
    "imp = Imputer(missing_values='NaN', strategy='mean')\n",
    "rf = RandomForestClassifier(n_estimators=300, class_weight='balanced', \n",
    "                            random_state=12345, n_jobs=-1)\n",
    "imp_clf = Pipeline([('imp', imp), ('clf', rf)])\n",
    "\n",
    "rf_grid_param2 = {\n",
    "    'clf__min_samples_split': range(400, 600, 50),\n",
    "    'clf__max_depth': range(8, 13),\n",
    "}\n",
    "\n",
    "rf_gsearch2 = GridSearchCV(\n",
    "    estimator=imp_clf,\n",
    "    param_grid=rf_grid_param2,\n",
    "    scoring='roc_auc', n_jobs=1, cv=5,\n",
    ")\n",
    "rf_gsearch2.fit(fea_all_k3_nAll_train, label_train_nAll)\n",
    "\n",
    "print rf_gsearch2.best_params_\n",
    "print '='*10\n",
    "print rf_gsearch2.best_score_\n",
    "print '='*10\n",
    "print roc_auc_score(\n",
    "    label_test_nAll, rf_gsearch2.predict_proba(fea_all_k3_nAll_test)[:,1])"
   ]
  },
  {
   "cell_type": "code",
   "execution_count": 45,
   "metadata": {
    "collapsed": false
   },
   "outputs": [
    {
     "name": "stdout",
     "output_type": "stream",
     "text": [
      "{'clf__max_depth': 8, 'clf__min_samples_split': 400}\n",
      "==========\n",
      "0.679817151482\n",
      "==========\n",
      "0.683102310231\n"
     ]
    }
   ],
   "source": [
    "from sklearn.model_selection import GridSearchCV\n",
    "from sklearn.ensemble import RandomForestClassifier\n",
    "from sklearn.preprocessing import Imputer\n",
    "from sklearn.metrics import roc_auc_score\n",
    "from sklearn.pipeline import Pipeline\n",
    "\n",
    "imp = Imputer(missing_values='NaN', strategy='mean')\n",
    "rf = RandomForestClassifier(n_estimators=300, class_weight='balanced', \n",
    "                            random_state=12345, n_jobs=-1)\n",
    "imp_clf = Pipeline([('imp', imp), ('clf', rf)])\n",
    "\n",
    "rf_grid_param3 = {\n",
    "    'clf__min_samples_split': range(325, 450, 25),\n",
    "    'clf__max_depth': [8],\n",
    "}\n",
    "\n",
    "rf_gsearch3 = GridSearchCV(\n",
    "    estimator=imp_clf,\n",
    "    param_grid=rf_grid_param3,\n",
    "    scoring='roc_auc', n_jobs=1, cv=5,\n",
    ")\n",
    "rf_gsearch3.fit(fea_all_k3_nAll_train, label_train_nAll)\n",
    "\n",
    "print rf_gsearch3.best_params_\n",
    "print '='*10\n",
    "print rf_gsearch3.best_score_\n",
    "print '='*10\n",
    "print roc_auc_score(\n",
    "    label_test_nAll, rf_gsearch3.predict_proba(fea_all_k3_nAll_test)[:,1])"
   ]
  },
  {
   "cell_type": "markdown",
   "metadata": {},
   "source": [
    "## Extra trees"
   ]
  },
  {
   "cell_type": "code",
   "execution_count": 46,
   "metadata": {
    "collapsed": false
   },
   "outputs": [
    {
     "name": "stdout",
     "output_type": "stream",
     "text": [
      "{'clf__max_depth': 5, 'clf__min_samples_split': 100}\n",
      "==========\n",
      "0.679187519086\n",
      "==========\n",
      "0.673795379538\n"
     ]
    }
   ],
   "source": [
    "from sklearn.model_selection import GridSearchCV\n",
    "from sklearn.ensemble import ExtraTreesClassifier\n",
    "from sklearn.preprocessing import Imputer\n",
    "from sklearn.metrics import roc_auc_score\n",
    "from sklearn.pipeline import Pipeline\n",
    "\n",
    "imp = Imputer(missing_values='NaN', strategy='mean')\n",
    "et = ExtraTreesClassifier(n_estimators=300, class_weight='balanced', \n",
    "                          random_state=12345, n_jobs=-1)\n",
    "imp_clf = Pipeline([('imp', imp), ('clf', et)])\n",
    "\n",
    "et_grid_param1 = {\n",
    "    'clf__min_samples_split': [2, 100, 200, 300, 400],\n",
    "    'clf__max_depth': range(3, 10, 2),\n",
    "}\n",
    "\n",
    "et_gsearch1 = GridSearchCV(\n",
    "    estimator=imp_clf,\n",
    "    param_grid=et_grid_param1,\n",
    "    scoring='roc_auc', n_jobs=1, cv=5,\n",
    ")\n",
    "et_gsearch1.fit(fea_all_k3_nAll_train, label_train_nAll)\n",
    "\n",
    "print et_gsearch1.best_params_\n",
    "print '='*10\n",
    "print et_gsearch1.best_score_\n",
    "print '='*10\n",
    "print roc_auc_score(\n",
    "    label_test_nAll, et_gsearch1.predict_proba(fea_all_k3_nAll_test)[:,1])"
   ]
  },
  {
   "cell_type": "code",
   "execution_count": 47,
   "metadata": {
    "collapsed": false
   },
   "outputs": [
    {
     "name": "stdout",
     "output_type": "stream",
     "text": [
      "{'clf__max_depth': 5, 'clf__min_samples_split': 100}\n",
      "==========\n",
      "0.679187519086\n",
      "==========\n",
      "0.673795379538\n"
     ]
    }
   ],
   "source": [
    "from sklearn.model_selection import GridSearchCV\n",
    "from sklearn.ensemble import ExtraTreesClassifier\n",
    "from sklearn.preprocessing import Imputer\n",
    "from sklearn.metrics import roc_auc_score\n",
    "from sklearn.pipeline import Pipeline\n",
    "\n",
    "imp = Imputer(missing_values='NaN', strategy='mean')\n",
    "et = ExtraTreesClassifier(n_estimators=300, class_weight='balanced', \n",
    "                          random_state=12345, n_jobs=-1)\n",
    "imp_clf = Pipeline([('imp', imp), ('clf', et)])\n",
    "\n",
    "et_grid_param2 = {\n",
    "    'clf__min_samples_split': range(25, 200, 25),\n",
    "    'clf__max_depth': range(4, 7),\n",
    "}\n",
    "\n",
    "et_gsearch2 = GridSearchCV(\n",
    "    estimator=imp_clf,\n",
    "    param_grid=et_grid_param2,\n",
    "    scoring='roc_auc', n_jobs=1, cv=5,\n",
    ")\n",
    "et_gsearch2.fit(fea_all_k3_nAll_train, label_train_nAll)\n",
    "\n",
    "print et_gsearch2.best_params_\n",
    "print '='*10\n",
    "print et_gsearch2.best_score_\n",
    "print '='*10\n",
    "print roc_auc_score(\n",
    "    label_test_nAll, et_gsearch2.predict_proba(fea_all_k3_nAll_test)[:,1])"
   ]
  },
  {
   "cell_type": "markdown",
   "metadata": {},
   "source": [
    "## Gradient boosting trees"
   ]
  },
  {
   "cell_type": "code",
   "execution_count": 48,
   "metadata": {
    "collapsed": false
   },
   "outputs": [
    {
     "name": "stdout",
     "output_type": "stream",
     "text": [
      "656\n",
      "3418\n",
      "5\n"
     ]
    }
   ],
   "source": [
    "print (label_train_nAll==1).sum()\n",
    "print (label_train_nAll==0).sum()\n",
    "print (label_train_nAll==0).sum() / (label_train_nAll==1).sum()"
   ]
  },
  {
   "cell_type": "code",
   "execution_count": 49,
   "metadata": {
    "collapsed": false
   },
   "outputs": [
    {
     "name": "stdout",
     "output_type": "stream",
     "text": [
      "{'n_estimators': 40}\n",
      "==========\n",
      "0.677631125182\n",
      "==========\n",
      "0.686165016502\n"
     ]
    }
   ],
   "source": [
    "from sklearn.model_selection import GridSearchCV\n",
    "from sklearn.metrics import roc_auc_score\n",
    "from xgboost import XGBClassifier\n",
    "\n",
    "bst_grid_param1 = {\n",
    "    'n_estimators': range(20, 200, 20)\n",
    "}\n",
    "bst_gsearch1 = GridSearchCV(\n",
    "    estimator=XGBClassifier(\n",
    "        max_depth=5,\n",
    "        min_child_weight=100,\n",
    "        learning_rate=.1,\n",
    "        subsample=.8,\n",
    "        colsample_bytree=.05,\n",
    "        scale_pos_weight=5.,\n",
    "        seed=12345,\n",
    "    ),\n",
    "    param_grid=bst_grid_param1,\n",
    "    scoring='roc_auc', n_jobs=-1, cv=5,   \n",
    ")\n",
    "bst_gsearch1.fit(fea_all_k3_nAll_train.values, label_train_nAll)\n",
    "\n",
    "print bst_gsearch1.best_params_\n",
    "print '='*10\n",
    "print bst_gsearch1.best_score_\n",
    "print '='*10\n",
    "print roc_auc_score(\n",
    "    label_test_nAll, bst_gsearch1.predict_proba(fea_all_k3_nAll_test.values)[:,1])"
   ]
  },
  {
   "cell_type": "code",
   "execution_count": 50,
   "metadata": {
    "collapsed": false
   },
   "outputs": [
    {
     "name": "stdout",
     "output_type": "stream",
     "text": [
      "{'n_estimators': 50}\n",
      "==========\n",
      "0.680051339099\n",
      "==========\n",
      "0.68102970297\n"
     ]
    }
   ],
   "source": [
    "from sklearn.model_selection import GridSearchCV\n",
    "from sklearn.metrics import roc_auc_score\n",
    "from xgboost import XGBClassifier\n",
    "\n",
    "bst_grid_param2 = {\n",
    "    'n_estimators': range(25, 60, 5)\n",
    "}\n",
    "bst_gsearch2 = GridSearchCV(\n",
    "    estimator=XGBClassifier(\n",
    "        max_depth=5,\n",
    "        min_child_weight=100,\n",
    "        learning_rate=.1,\n",
    "        subsample=.8,\n",
    "        colsample_bytree=.05,\n",
    "        scale_pos_weight=5.,\n",
    "        seed=12345,\n",
    "    ),\n",
    "    param_grid=bst_grid_param2,\n",
    "    scoring='roc_auc', n_jobs=-1, cv=5,   \n",
    ")\n",
    "bst_gsearch2.fit(fea_all_k3_nAll_train.values, label_train_nAll)\n",
    "\n",
    "print bst_gsearch2.best_params_\n",
    "print '='*10\n",
    "print bst_gsearch2.best_score_\n",
    "print '='*10\n",
    "print roc_auc_score(\n",
    "    label_test_nAll, bst_gsearch2.predict_proba(fea_all_k3_nAll_test.values)[:,1])"
   ]
  },
  {
   "cell_type": "code",
   "execution_count": 51,
   "metadata": {
    "collapsed": false
   },
   "outputs": [
    {
     "name": "stdout",
     "output_type": "stream",
     "text": [
      "{'n_estimators': 52}\n",
      "==========\n",
      "0.680638160971\n",
      "==========\n",
      "0.680224422442\n"
     ]
    }
   ],
   "source": [
    "from sklearn.model_selection import GridSearchCV\n",
    "from sklearn.metrics import roc_auc_score\n",
    "from xgboost import XGBClassifier\n",
    "\n",
    "bst_grid_param3 = {\n",
    "    'n_estimators': range(46, 55)\n",
    "}\n",
    "bst_gsearch3 = GridSearchCV(\n",
    "    estimator=XGBClassifier(\n",
    "        max_depth=5,\n",
    "        min_child_weight=100,\n",
    "        learning_rate=.1,\n",
    "        subsample=.8,\n",
    "        colsample_bytree=.05,\n",
    "        scale_pos_weight=5.,\n",
    "        seed=12345,\n",
    "    ),\n",
    "    param_grid=bst_grid_param3,\n",
    "    scoring='roc_auc', n_jobs=-1, cv=5,   \n",
    ")\n",
    "bst_gsearch3.fit(fea_all_k3_nAll_train.values, label_train_nAll)\n",
    "\n",
    "print bst_gsearch3.best_params_\n",
    "print '='*10\n",
    "print bst_gsearch3.best_score_\n",
    "print '='*10\n",
    "print roc_auc_score(\n",
    "    label_test_nAll, bst_gsearch3.predict_proba(fea_all_k3_nAll_test.values)[:,1])"
   ]
  },
  {
   "cell_type": "code",
   "execution_count": 55,
   "metadata": {
    "collapsed": false
   },
   "outputs": [
    {
     "name": "stdout",
     "output_type": "stream",
     "text": [
      "{'n_estimators': 40, 'max_depth': 1, 'min_child_weight': 50}\n",
      "==========\n",
      "0.68502671217\n",
      "==========\n",
      "0.683386138614\n"
     ]
    }
   ],
   "source": [
    "from sklearn.model_selection import GridSearchCV\n",
    "from sklearn.metrics import roc_auc_score\n",
    "from xgboost import XGBClassifier\n",
    "\n",
    "bst_grid_param5 = {\n",
    "    'n_estimators': [40],\n",
    "    'max_depth': range(1, 10, 2),\n",
    "    'min_child_weight': range(50, 200, 50),    \n",
    "}\n",
    "bst_gsearch5 = GridSearchCV(\n",
    "    estimator=XGBClassifier(\n",
    "        learning_rate=.1,\n",
    "        subsample=.8,\n",
    "        colsample_bytree=.05,\n",
    "        scale_pos_weight=5.,\n",
    "        seed=12345,\n",
    "    ),\n",
    "    param_grid=bst_grid_param5,\n",
    "    scoring='roc_auc', n_jobs=-1, cv=5,   \n",
    ")\n",
    "bst_gsearch5.fit(fea_all_k3_nAll_train.values, label_train_nAll)\n",
    "\n",
    "print bst_gsearch5.best_params_\n",
    "print '='*10\n",
    "print bst_gsearch5.best_score_\n",
    "print '='*10\n",
    "print roc_auc_score(\n",
    "    label_test_nAll, bst_gsearch5.predict_proba(fea_all_k3_nAll_test.values)[:,1])"
   ]
  },
  {
   "cell_type": "code",
   "execution_count": 56,
   "metadata": {
    "collapsed": false
   },
   "outputs": [
    {
     "name": "stdout",
     "output_type": "stream",
     "text": [
      "{'n_estimators': 40, 'max_depth': 1, 'min_child_weight': 40}\n",
      "==========\n",
      "0.685216507107\n",
      "==========\n",
      "0.683386138614\n"
     ]
    }
   ],
   "source": [
    "from sklearn.model_selection import GridSearchCV\n",
    "from sklearn.metrics import roc_auc_score\n",
    "from xgboost import XGBClassifier\n",
    "\n",
    "bst_grid_param6 = {\n",
    "    'n_estimators': [40],\n",
    "    'max_depth': [1],\n",
    "    'min_child_weight': range(10, 100, 10),\n",
    "}\n",
    "bst_gsearch6 = GridSearchCV(\n",
    "    estimator=XGBClassifier(\n",
    "        learning_rate=.1,\n",
    "        subsample=.8,\n",
    "        colsample_bytree=.05,\n",
    "        scale_pos_weight=5.,\n",
    "        seed=12345,\n",
    "    ),\n",
    "    param_grid=bst_grid_param6,\n",
    "    scoring='roc_auc', n_jobs=-1, cv=5,   \n",
    ")\n",
    "bst_gsearch6.fit(fea_all_k3_nAll_train.values, label_train_nAll)\n",
    "\n",
    "print bst_gsearch6.best_params_\n",
    "print '='*10\n",
    "print bst_gsearch6.best_score_\n",
    "print '='*10\n",
    "print roc_auc_score(\n",
    "    label_test_nAll, bst_gsearch6.predict_proba(fea_all_k3_nAll_test.values)[:,1])"
   ]
  },
  {
   "cell_type": "code",
   "execution_count": 57,
   "metadata": {
    "collapsed": false
   },
   "outputs": [
    {
     "name": "stdout",
     "output_type": "stream",
     "text": [
      "{'n_estimators': 40, 'colsample_bytree': 0.080000000000000002, 'max_depth': 1, 'min_child_weight': 40}\n",
      "==========\n",
      "0.687216736009\n",
      "==========\n",
      "0.690158415842\n"
     ]
    }
   ],
   "source": [
    "from sklearn.model_selection import GridSearchCV\n",
    "from sklearn.metrics import roc_auc_score\n",
    "from xgboost import XGBClassifier\n",
    "\n",
    "bst_grid_param7 = {\n",
    "    'n_estimators': [40],\n",
    "    'max_depth': [1],\n",
    "    'min_child_weight': [40],\n",
    "    'colsample_bytree': np.arange(.01, .10, .01),\n",
    "}\n",
    "bst_gsearch7 = GridSearchCV(\n",
    "    estimator=XGBClassifier(\n",
    "        learning_rate=.1,\n",
    "        subsample=.8,\n",
    "        scale_pos_weight=5.,\n",
    "        seed=12345,\n",
    "    ),\n",
    "    param_grid=bst_grid_param7,\n",
    "    scoring='roc_auc', n_jobs=-1, cv=5,   \n",
    ")\n",
    "bst_gsearch7.fit(fea_all_k3_nAll_train.values, label_train_nAll)\n",
    "\n",
    "print bst_gsearch7.best_params_\n",
    "print '='*10\n",
    "print bst_gsearch7.best_score_\n",
    "print '='*10\n",
    "print roc_auc_score(\n",
    "    label_test_nAll, bst_gsearch7.predict_proba(fea_all_k3_nAll_test.values)[:,1])"
   ]
  },
  {
   "cell_type": "code",
   "execution_count": 58,
   "metadata": {
    "collapsed": false
   },
   "outputs": [
    {
     "name": "stdout",
     "output_type": "stream",
     "text": [
      "{'n_estimators': 40, 'subsample': 0.80000000000000027, 'colsample_bytree': 0.08, 'max_depth': 1, 'min_child_weight': 40}\n",
      "==========\n",
      "0.687216736009\n",
      "==========\n",
      "0.690158415842\n"
     ]
    }
   ],
   "source": [
    "from sklearn.model_selection import GridSearchCV\n",
    "from sklearn.metrics import roc_auc_score\n",
    "from xgboost import XGBClassifier\n",
    "\n",
    "bst_grid_param8 = {\n",
    "    'n_estimators': [40],\n",
    "    'max_depth': [1],\n",
    "    'min_child_weight': [40],\n",
    "    'colsample_bytree': [.08],\n",
    "    'subsample': np.arange(.5, .95, .05),\n",
    "}\n",
    "bst_gsearch8 = GridSearchCV(\n",
    "    estimator=XGBClassifier(\n",
    "        learning_rate=.1,\n",
    "        scale_pos_weight=5.,\n",
    "        seed=12345,\n",
    "    ),\n",
    "    param_grid=bst_grid_param8,\n",
    "    scoring='roc_auc', n_jobs=-1, cv=5,   \n",
    ")\n",
    "bst_gsearch8.fit(fea_all_k3_nAll_train.values, label_train_nAll)\n",
    "\n",
    "print bst_gsearch8.best_params_\n",
    "print '='*10\n",
    "print bst_gsearch8.best_score_\n",
    "print '='*10\n",
    "print roc_auc_score(\n",
    "    label_test_nAll, bst_gsearch8.predict_proba(fea_all_k3_nAll_test.values)[:,1])"
   ]
  },
  {
   "cell_type": "code",
   "execution_count": 59,
   "metadata": {
    "collapsed": false
   },
   "outputs": [
    {
     "name": "stdout",
     "output_type": "stream",
     "text": [
      "{'n_estimators': 400, 'subsample': 0.8, 'colsample_bytree': 0.08, 'max_depth': 1, 'min_child_weight': 40}\n",
      "==========\n",
      "0.685574672974\n",
      "==========\n",
      "0.685900990099\n"
     ]
    }
   ],
   "source": [
    "from sklearn.model_selection import GridSearchCV\n",
    "from sklearn.metrics import roc_auc_score\n",
    "from xgboost import XGBClassifier\n",
    "\n",
    "bst_grid_param9 = {\n",
    "    'n_estimators': [400],\n",
    "    'max_depth': [1],\n",
    "    'min_child_weight': [40],\n",
    "    'colsample_bytree': [.08],\n",
    "    'subsample': [.8],\n",
    "}\n",
    "bst_gsearch9 = GridSearchCV(\n",
    "    estimator=XGBClassifier(\n",
    "        learning_rate=.01,\n",
    "        scale_pos_weight=5.,\n",
    "        seed=12345,\n",
    "    ),\n",
    "    param_grid=bst_grid_param9,\n",
    "    scoring='roc_auc', n_jobs=-1, cv=5,   \n",
    ")\n",
    "bst_gsearch9.fit(fea_all_k3_nAll_train.values, label_train_nAll)\n",
    "\n",
    "print bst_gsearch9.best_params_\n",
    "print '='*10\n",
    "print bst_gsearch9.best_score_\n",
    "print '='*10\n",
    "print roc_auc_score(\n",
    "    label_test_nAll, bst_gsearch9.predict_proba(fea_all_k3_nAll_test.values)[:,1])"
   ]
  },
  {
   "cell_type": "code",
   "execution_count": 60,
   "metadata": {
    "collapsed": false
   },
   "outputs": [
    {
     "name": "stdout",
     "output_type": "stream",
     "text": [
      "{'n_estimators': 4000, 'subsample': 0.8, 'colsample_bytree': 0.08, 'max_depth': 1, 'min_child_weight': 40}\n",
      "==========\n",
      "0.685614727629\n",
      "==========\n",
      "0.685504950495\n"
     ]
    }
   ],
   "source": [
    "from sklearn.model_selection import GridSearchCV\n",
    "from sklearn.metrics import roc_auc_score\n",
    "from xgboost import XGBClassifier\n",
    "\n",
    "bst_grid_param10 = {\n",
    "    'n_estimators': [4000],\n",
    "    'max_depth': [1],\n",
    "    'min_child_weight': [40],\n",
    "    'colsample_bytree': [.08],\n",
    "    'subsample': [.8],\n",
    "}\n",
    "bst_gsearch10 = GridSearchCV(\n",
    "    estimator=XGBClassifier(\n",
    "        learning_rate=.001,\n",
    "        scale_pos_weight=5.,\n",
    "        seed=12345,\n",
    "    ),\n",
    "    param_grid=bst_grid_param10,\n",
    "    scoring='roc_auc', n_jobs=-1, cv=5,   \n",
    ")\n",
    "bst_gsearch10.fit(fea_all_k3_nAll_train.values, label_train_nAll)\n",
    "\n",
    "print bst_gsearch10.best_params_\n",
    "print '='*10\n",
    "print bst_gsearch10.best_score_\n",
    "print '='*10\n",
    "print roc_auc_score(\n",
    "    label_test_nAll, bst_gsearch10.predict_proba(fea_all_k3_nAll_test.values)[:,1])"
   ]
  },
  {
   "cell_type": "code",
   "execution_count": 150,
   "metadata": {
    "collapsed": false
   },
   "outputs": [
    {
     "name": "stdout",
     "output_type": "stream",
     "text": [
      "{'colsample_bytree': 0.08, 'scale_pos_weight': 5, 'min_child_weight': 40, 'n_estimators': 40, 'subsample': 0.8, 'max_depth': 1}\n",
      "==========\n",
      "0.687216736009\n",
      "==========\n",
      "0.690158415842\n"
     ]
    }
   ],
   "source": [
    "from sklearn.model_selection import GridSearchCV\n",
    "from sklearn.metrics import roc_auc_score\n",
    "from xgboost import XGBClassifier\n",
    "\n",
    "bst_grid_param11 = {\n",
    "    'n_estimators': [40],\n",
    "    'max_depth': [1],\n",
    "    'min_child_weight': [40],\n",
    "    'colsample_bytree': [.08],\n",
    "    'subsample': [.8],\n",
    "    'scale_pos_weight': range(1, 20, 4)\n",
    "}\n",
    "bst_gsearch11 = GridSearchCV(\n",
    "    estimator=XGBClassifier(\n",
    "        learning_rate=.1,\n",
    "        seed=12345,\n",
    "    ),\n",
    "    param_grid=bst_grid_param11,\n",
    "    scoring='roc_auc', n_jobs=-1, cv=5,   \n",
    ")\n",
    "bst_gsearch11.fit(fea_all_k3_nAll_train.values, label_train_nAll)\n",
    "\n",
    "print bst_gsearch11.best_params_\n",
    "print '='*10\n",
    "print bst_gsearch11.best_score_\n",
    "print '='*10\n",
    "print roc_auc_score(\n",
    "    label_test_nAll, bst_gsearch11.predict_proba(fea_all_k3_nAll_test.values)[:,1])"
   ]
  },
  {
   "cell_type": "markdown",
   "metadata": {},
   "source": [
    "# Blending different classifiers on the test set"
   ]
  },
  {
   "cell_type": "code",
   "execution_count": 61,
   "metadata": {
    "collapsed": false
   },
   "outputs": [
    {
     "name": "stdout",
     "output_type": "stream",
     "text": [
      "(731, 3)\n"
     ]
    }
   ],
   "source": [
    "rf_test_pred = rf_gsearch3.predict_proba(fea_all_k3_nAll_test)[:,1]\n",
    "et_test_pred = et_gsearch2.predict_proba(fea_all_k3_nAll_test)[:,1]\n",
    "bst_test_pred = bst_gsearch8.predict_proba(fea_all_k3_nAll_test.values)[:,1]\n",
    "all_clf_test_pred = np.stack([rf_test_pred, et_test_pred, bst_test_pred], axis=1)\n",
    "print all_clf_test_pred.shape"
   ]
  },
  {
   "cell_type": "code",
   "execution_count": 62,
   "metadata": {
    "collapsed": false
   },
   "outputs": [
    {
     "name": "stdout",
     "output_type": "stream",
     "text": [
      "{'C': 1.0000000000000001e-05}\n",
      "==========\n",
      "0.689927882642\n",
      "==========\n",
      "0.313636963696\n"
     ]
    }
   ],
   "source": [
    "from sklearn.model_selection import GridSearchCV\n",
    "from sklearn.metrics import roc_auc_score\n",
    "from sklearn.svm import SVC\n",
    "\n",
    "svm_blend_grid_param1 = {\n",
    "    'C': 10.**np.arange(-5, 6, 1),\n",
    "}\n",
    "svm_blend_gsearch1 = GridSearchCV(\n",
    "    estimator=SVC(\n",
    "        kernel='linear',\n",
    "        probability=True,\n",
    "        class_weight='balanced',\n",
    "        random_state=12345,\n",
    "    ),\n",
    "    param_grid=svm_blend_grid_param1,\n",
    "    scoring='roc_auc', n_jobs=-1, cv=5,   \n",
    ")\n",
    "svm_blend_gsearch1.fit(all_clf_test_pred, label_test_nAll)\n",
    "\n",
    "print svm_blend_gsearch1.best_params_\n",
    "print '='*10\n",
    "print svm_blend_gsearch1.best_score_\n",
    "print '='*10\n",
    "print roc_auc_score(\n",
    "    label_test_nAll, svm_blend_gsearch1.predict_proba(all_clf_test_pred)[:,1])"
   ]
  },
  {
   "cell_type": "code",
   "execution_count": 63,
   "metadata": {
    "collapsed": false
   },
   "outputs": [
    {
     "name": "stdout",
     "output_type": "stream",
     "text": [
      "{'C': 1.0000000000000001e-05}\n",
      "==========\n",
      "0.689927882642\n",
      "==========\n",
      "0.686363036304\n"
     ]
    }
   ],
   "source": [
    "from sklearn.model_selection import GridSearchCV\n",
    "from sklearn.metrics import roc_auc_score\n",
    "from sklearn.linear_model import LogisticRegression\n",
    "\n",
    "log_blend_grid_param1 = {\n",
    "    'C': 10.**np.arange(-5, 6, 1),\n",
    "}\n",
    "log_blend_gsearch1 = GridSearchCV(\n",
    "    estimator=LogisticRegression(\n",
    "        class_weight='balanced',\n",
    "        random_state=12345,\n",
    "        max_iter=1000,\n",
    "    ),\n",
    "    param_grid=log_blend_grid_param1,\n",
    "    scoring='roc_auc', n_jobs=-1, cv=5,   \n",
    ")\n",
    "log_blend_gsearch1.fit(all_clf_test_pred, label_test_nAll)\n",
    "\n",
    "print log_blend_gsearch1.best_params_\n",
    "print '='*10\n",
    "print log_blend_gsearch1.best_score_\n",
    "print '='*10\n",
    "print roc_auc_score(\n",
    "    label_test_nAll, log_blend_gsearch1.predict_proba(all_clf_test_pred)[:,1])"
   ]
  },
  {
   "cell_type": "code",
   "execution_count": 66,
   "metadata": {
    "collapsed": false
   },
   "outputs": [
    {
     "name": "stdout",
     "output_type": "stream",
     "text": [
      "{'C': 1e-10}\n",
      "==========\n",
      "0.689927882642\n",
      "==========\n",
      "0.686363036304\n"
     ]
    }
   ],
   "source": [
    "from sklearn.model_selection import GridSearchCV\n",
    "from sklearn.metrics import roc_auc_score\n",
    "from sklearn.linear_model import LogisticRegression\n",
    "\n",
    "log_blend_grid_param2 = {\n",
    "    'C': 10.**np.arange(-10, -4, 1),\n",
    "}\n",
    "log_blend_gsearch2 = GridSearchCV(\n",
    "    estimator=LogisticRegression(\n",
    "        class_weight='balanced',\n",
    "        random_state=12345,\n",
    "        max_iter=1000,\n",
    "    ),\n",
    "    param_grid=log_blend_grid_param2,\n",
    "    scoring='roc_auc', n_jobs=-1, cv=5,   \n",
    ")\n",
    "log_blend_gsearch2.fit(all_clf_test_pred, label_test_nAll)\n",
    "\n",
    "print log_blend_gsearch2.best_params_\n",
    "print '='*10\n",
    "print log_blend_gsearch2.best_score_\n",
    "print '='*10\n",
    "print roc_auc_score(\n",
    "    label_test_nAll, log_blend_gsearch2.predict_proba(all_clf_test_pred)[:,1])"
   ]
  },
  {
   "cell_type": "code",
   "execution_count": 70,
   "metadata": {
    "collapsed": false
   },
   "outputs": [
    {
     "name": "stdout",
     "output_type": "stream",
     "text": [
      "{}\n",
      "==========\n",
      "0.621087563347\n",
      "==========\n",
      "1.0\n"
     ]
    }
   ],
   "source": [
    "from sklearn.model_selection import GridSearchCV\n",
    "from sklearn.metrics import roc_auc_score\n",
    "from sklearn.ensemble import RandomForestClassifier\n",
    "\n",
    "rf_blend_grid_param1 = {}\n",
    "rf_blend_gsearch1 = GridSearchCV(\n",
    "    estimator=RandomForestClassifier(\n",
    "        n_estimators=100, \n",
    "        class_weight='balanced', \n",
    "        random_state=12345, n_jobs=-1\n",
    "    ),\n",
    "    param_grid=rf_blend_grid_param1,\n",
    "    scoring='roc_auc', n_jobs=-1, cv=5,   \n",
    ")\n",
    "rf_blend_gsearch1.fit(all_clf_test_pred, label_test_nAll)\n",
    "\n",
    "print rf_blend_gsearch1.best_params_\n",
    "print '='*10\n",
    "print rf_blend_gsearch1.best_score_\n",
    "print '='*10\n",
    "print roc_auc_score(\n",
    "    label_test_nAll, rf_blend_gsearch1.predict_proba(all_clf_test_pred)[:,1])"
   ]
  },
  {
   "cell_type": "markdown",
   "metadata": {},
   "source": [
    "Simply taking an average."
   ]
  },
  {
   "cell_type": "code",
   "execution_count": 64,
   "metadata": {
    "collapsed": false
   },
   "outputs": [
    {
     "name": "stdout",
     "output_type": "stream",
     "text": [
      "0.6859669967\n"
     ]
    }
   ],
   "source": [
    "print roc_auc_score(label_test_nAll, all_clf_test_pred.mean(axis=1))"
   ]
  },
  {
   "cell_type": "code",
   "execution_count": 65,
   "metadata": {
    "collapsed": false
   },
   "outputs": [
    {
     "data": {
      "text/plain": [
       "array([[ 1.        ,  0.95807982,  0.9613236 ],\n",
       "       [ 0.95807982,  1.        ,  0.90436152],\n",
       "       [ 0.9613236 ,  0.90436152,  1.        ]])"
      ]
     },
     "execution_count": 65,
     "metadata": {},
     "output_type": "execute_result"
    }
   ],
   "source": [
    "np.corrcoef(all_clf_test_pred.T)"
   ]
  },
  {
   "cell_type": "markdown",
   "metadata": {},
   "source": [
    "The classifiers are highly correlated. Using model blending does not offer any advantage."
   ]
  },
  {
   "cell_type": "markdown",
   "metadata": {},
   "source": [
    "# Finally selected classifier"
   ]
  },
  {
   "cell_type": "code",
   "execution_count": 72,
   "metadata": {
    "collapsed": false
   },
   "outputs": [
    {
     "name": "stdout",
     "output_type": "stream",
     "text": [
      " Test AUC: 0.690158415842\n"
     ]
    }
   ],
   "source": [
    "from xgboost import XGBClassifier\n",
    "from sklearn.metrics import roc_auc_score\n",
    "\n",
    "bst_selected = XGBClassifier(\n",
    "    n_estimators=40,\n",
    "    max_depth=1,\n",
    "    min_child_weight=40,\n",
    "    colsample_bytree=.08,\n",
    "    subsample=.8,\n",
    "    learning_rate=.1,\n",
    "    scale_pos_weight=5.,\n",
    "    seed=12345,\n",
    ")\n",
    "\n",
    "bst_selected.fit(fea_all_k3_nAll_train.values, label_train_nAll)\n",
    "print 'Test AUC:', roc_auc_score(\n",
    "    label_test_nAll, bst_selected.predict_proba(fea_all_k3_nAll_test.values)[:,1])"
   ]
  },
  {
   "cell_type": "code",
   "execution_count": 86,
   "metadata": {
    "collapsed": false
   },
   "outputs": [
    {
     "name": "stdout",
     "output_type": "stream",
     "text": [
      "Self test AUC: 0.7116949392\n"
     ]
    }
   ],
   "source": [
    "from xgboost import XGBClassifier\n",
    "\n",
    "bst_selected_traintest = XGBClassifier(\n",
    "    n_estimators=40,\n",
    "    max_depth=1,\n",
    "    min_child_weight=40,\n",
    "    colsample_bytree=.08,\n",
    "    subsample=.8,\n",
    "    learning_rate=.1,\n",
    "    scale_pos_weight=5.,\n",
    "    seed=12345,\n",
    ")\n",
    "\n",
    "fea_all_k3_nAll_train.columns = fea_all_k3_nAll_test.columns\n",
    "fea_all_k3_traintest = pd.concat([fea_all_k3_nAll_train, fea_all_k3_nAll_test], axis=0)\n",
    "label_traintest = np.append(label_train_nAll, label_test_nAll)\n",
    "bst_selected_traintest.fit(fea_all_k3_traintest.values, label_traintest)\n",
    "print 'Self test AUC:', roc_auc_score(\n",
    "    label_traintest, bst_selected_traintest.predict_proba(fea_all_k3_traintest.values)[:,1])"
   ]
  },
  {
   "cell_type": "code",
   "execution_count": 90,
   "metadata": {
    "collapsed": false
   },
   "outputs": [
    {
     "name": "stdout",
     "output_type": "stream",
     "text": [
      "(4805, 1428)\n"
     ]
    }
   ],
   "source": [
    "print fea_all_k3_traintest.shape"
   ]
  },
  {
   "cell_type": "markdown",
   "metadata": {
    "collapsed": true
   },
   "source": [
    "# Save classifier info to external file"
   ]
  },
  {
   "cell_type": "code",
   "execution_count": 91,
   "metadata": {
    "collapsed": false
   },
   "outputs": [],
   "source": [
    "feature_name = fea_30_k3_nAll_test.columns  # 30 is arbitrary.\n",
    "nb_img = None\n",
    "cutoffs = np.arange(.3, 1., .1)\n",
    "k=3\n",
    "clf_list = [bst_selected_traintest]"
   ]
  },
  {
   "cell_type": "code",
   "execution_count": 92,
   "metadata": {
    "collapsed": false
   },
   "outputs": [
    {
     "name": "stdout",
     "output_type": "stream",
     "text": [
      "Index([u'cc_ben_global_max_intensity', u'cc_ben_nb_regions',\n",
      "       u'cc_ben_top1_area', u'cc_ben_top1_area_ratio',\n",
      "       u'cc_ben_top1_area_ratio2', u'cc_ben_top1_eccentricity',\n",
      "       u'cc_ben_top1_eig1', u'cc_ben_top1_eig2',\n",
      "       u'cc_ben_top1_equivalent_diameter', u'cc_ben_top1_euler_number',\n",
      "       ...\n",
      "       u'mlo_mal_top3_euler_number', u'mlo_mal_top3_extent',\n",
      "       u'mlo_mal_top3_major_axis_length', u'mlo_mal_top3_max_intensity',\n",
      "       u'mlo_mal_top3_mean_intensity', u'mlo_mal_top3_minor_axis_length',\n",
      "       u'mlo_mal_top3_orientation', u'mlo_mal_top3_perimeter',\n",
      "       u'mlo_mal_top3_solidity', u'mlo_mal_total_area'],\n",
      "      dtype='object', length=204)\n",
      "==========\n",
      "[ 0.3  0.4  0.5  0.6  0.7  0.8  0.9]\n"
     ]
    }
   ],
   "source": [
    "print feature_name\n",
    "print '='*10\n",
    "print cutoffs"
   ]
  },
  {
   "cell_type": "code",
   "execution_count": 93,
   "metadata": {
    "collapsed": true
   },
   "outputs": [],
   "source": [
    "import pickle\n",
    "pickle.dump((feature_name, nb_img, cutoffs, k, clf_list), open('model5_ftu_clf_info.pkl', 'w'))"
   ]
  }
 ],
 "metadata": {
  "kernelspec": {
   "display_name": "Python 2",
   "language": "python",
   "name": "python2"
  },
  "language_info": {
   "codemirror_mode": {
    "name": "ipython",
    "version": 2
   },
   "file_extension": ".py",
   "mimetype": "text/x-python",
   "name": "python",
   "nbconvert_exporter": "python",
   "pygments_lexer": "ipython2",
   "version": "2.7.12"
  }
 },
 "nbformat": 4,
 "nbformat_minor": 0
}
